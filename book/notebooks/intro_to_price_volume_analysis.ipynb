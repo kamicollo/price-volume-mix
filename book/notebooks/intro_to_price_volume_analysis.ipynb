{
 "cells": [
  {
   "cell_type": "code",
   "execution_count": 22,
   "metadata": {},
   "outputs": [],
   "source": [
    "import sys\n",
    "sys.path.append('/home/aurimas/coding/price-volume-mix/resources')\n",
    "sys.path.append('/home/aurimas/coding/price-volume-mix/package')"
   ]
  },
  {
   "cell_type": "code",
   "execution_count": 23,
   "metadata": {},
   "outputs": [],
   "source": [
    "from datasets.olist import sales_data"
   ]
  },
  {
   "cell_type": "code",
   "execution_count": 24,
   "metadata": {
    "tags": [
     "hide"
    ]
   },
   "outputs": [],
   "source": [
    "\n",
    "import polars as pl\n",
    "import polars.selectors as cs\n",
    "import tabulate\n",
    "import numpy as np\n",
    "import altair as alt\n",
    "import importlib as imp\n",
    "import itertools as itt"
   ]
  },
  {
   "cell_type": "code",
   "execution_count": 26,
   "metadata": {},
   "outputs": [],
   "source": [
    "import pvm\n",
    "import pvm.fields as pvmf\n",
    "import pvm.calculations as pvmc\n",
    "import pvm.charts as pmv_charts\n",
    "\n",
    "imp.reload(pvmf)\n",
    "imp.reload(pvmc)\n",
    "pass"
   ]
  },
  {
   "attachments": {
    "image.png": {
     "image/png": "[encoded data removed]"
    }
   },
   "cell_type": "markdown",
   "metadata": {},
   "source": [
    "# Price-volume-mix analysis: 101 (with Python)\n",
    "\n",
    "## What's price-volume-mix analysis?\n",
    "\n",
    "If you ask a data analyst or data scientist about price-volume-mix analysis (also known as: \"variance analysis\", \"sales/margin bridges\" and a bunch of other names), you'll likely get a blank stare. It's not something that's taught in analytics curriculum, despite being a standard approach to analyze trends in data in finance and accounting teams (and likely shows up in MBA curriculums). I think that's kind of a shame - analytics teams often encounter situations where they need to \"explain a change\" in a metric that's simultaneously affected by number of components, and PVM analysis is a great tool for that. It's also behind fancy waterfall charts you may see in consulting reports like this one:\n",
    "\n",
    "![image.png](attachment:image.png)\n",
    "\n",
    "It's a Swiss-army-knife analytical tool to answer questions such as:\n",
    "* (A multi-national FMCG) How much is price pressure comtributing to the profitability decline vs. budget?\n",
    "* (Any labor intensive business) How much of the labour cost increase in 2023 is due to salaries vs. additional headcount?\n",
    "* (A retailer) How much of the average price decline is due to changing product composition?\n",
    "* (Manufacturing) How much of the gross margin increase last year can be attributed to production yield improvements?\n",
    "* (A B2C SaaS) What were the key drivers behind retention rate decline in Q3?\n",
    "\n",
    "In other words, it's all about isolating price (or cost) vs. volume impact on a metric that depends on both of them. While mostly employed in industries where pricing, unit costs and product selection is key (retail, manufacturing), there are use cases in any business that reaches a certain level of complexity and where there are competing \"rate\" vs. \"quantity\" dynamics. In a telecom operator (or any subscription business) that's users vs. their average spend, in a consulting business that's # of hours billed vs. hourly rate (vs. labor cost), in any global company it's earnings in their local currency vs. average FX rate (\"constant currency\" analysis is just a version of PVM). \n",
    "\n",
    "In other words, it's super useful. However, glance at resources on the web and you will likely see different formulas, get confused by what exactly \"Mix effect\" is and struggle to get beyond the basics. I spent 10+ years working in EY's Transaction Advisory (a.k.a. \"Strategy and Transactions\" today) analysing financial performance of companies and PVM was a frequent tool of choice. But even within EY, we had varying methodologies, terminologies, and other -logies; I happen to be the person who led a development of an internal \"handbook for PVM analysis\" that tried to provide some common ground for unifying approaches used across the firm, so I dare say I know a few things about the topic. I figured that it may be worth to write (a few) blog posts about it. Besides, I have been scarred by doing PVM analysis in monster Excel workbooks, nasty Alteryx workflows (and even nastier PowerBI implementations), and I wanted to see if I could write up a small Python package as I go along.\n",
    "\n"
   ]
  },
  {
   "cell_type": "markdown",
   "metadata": {},
   "source": [
    "## Data at hand\n",
    "\n",
    "In this blog post, I will be using [a dataset from Olist](https://www.kaggle.com/datasets/olistbr/brazilian-ecommerce), a Brazilian e-commerce company. It works as a platform e-marketplace, connecting businesses with consumers. You can think about it as Etsy or Amazon, just without the any own products or inventory. The dataset contains real commercial data (anonymized), down to an order level - exactly the type of situation where PVM analysis can be very handy. For each order, we know the customer, the seller, and the products in the order, plus price and date information; products roll up to categories, while both customers and sellers have associated geographical information.\n",
    "\n",
    "Let's imagine we are interested in understanding how the company was doing in years 2017-2018. We can grab the dataset and do some basic aggregations."
   ]
  },
  {
   "cell_type": "code",
   "execution_count": 2,
   "metadata": {
    "tags": [
     "data_processing"
    ]
   },
   "outputs": [
    {
     "name": "stdout",
     "output_type": "stream",
     "text": [
      "+----------------------------+--------+--------+--------+----------+\n",
      "|            KPI             |  2017  |  2018  | change | % change |\n",
      "+----------------------------+--------+--------+--------+----------+\n",
      "|    Total revenue ('000)    | 6805.5 | 8364.3 | 1558.8 |   22.9   |\n",
      "| Total products sold ('000) |  48.7  |  59.6  |  11.0  |   22.5   |\n",
      "|       Average price        | 139.8  | 140.2  |  0.4   |   0.3    |\n",
      "+----------------------------+--------+--------+--------+----------+\n"
     ]
    }
   ],
   "source": [
    "totals = (\n",
    "    sales_data.group_by([\"year\"])\n",
    "    .agg(\n",
    "        pl.sum(\"revenue\").alias(\"Total revenue ('000)\") / 1000,\n",
    "        pl.sum(\"quantity\").alias(\"Total products sold ('000)\") / 1000,\n",
    "    )\n",
    "    .with_columns(\n",
    "        (pl.col(\"Total revenue ('000)\") / pl.col(\"Total products sold ('000)\")).alias(\n",
    "            \"Average price\"\n",
    "        )\n",
    "    )\n",
    "    .melt(id_vars=\"year\", variable_name=\"KPI\")\n",
    "    .pivot(index=\"KPI\", values=\"value\", columns=\"year\")\n",
    "    .with_columns(\n",
    "        (pl.col(\"2018\") - pl.col(\"2017\")).alias(\"change\"),\n",
    "        ((pl.col(\"2018\") - pl.col(\"2017\")) / pl.col(\"2017\") * 100).alias(\"% change\"),\n",
    "    )\n",
    ")\n",
    "\n",
    "\n",
    "def print_table(df: pl.DataFrame, round=1):\n",
    "    print(\n",
    "        tabulate.tabulate(\n",
    "            df.to_pandas().round(round),\n",
    "            headers=df.columns,\n",
    "            tablefmt=\"pretty\",\n",
    "            showindex=False,\n",
    "        )\n",
    "    )\n",
    "\n",
    "\n",
    "print_table(totals)"
   ]
  },
  {
   "cell_type": "markdown",
   "metadata": {},
   "source": [
    "Looks like Olist was doing great - its revenue was up 1.6M (23%), mostly because it sold more products (though average price also went up a bit)."
   ]
  },
  {
   "cell_type": "markdown",
   "metadata": {},
   "source": [
    "## Understanding PVM decomposition\n",
    "\n",
    "PVM, fundamentally, is all about very simple formulas to decompose a change. Suppose we wanted to produce a break down the 1.6M revenue increase and be able to say how much of it was \"due to volume\" and how much was \"due to price\". It's clear that the majority of the impact is due to volume - but can we put a number to it?\n",
    "\n",
    "<img src=\"img/kirkby-1970.png\" alt=\"Kirkby's publication on variance calculations\" style=\"width: 200px;\"/>\n",
    "\n",
    "Well, already back in [1970s](https://egrove.olemiss.edu/mgmtservices/vol7/iss2/7/), people figured out that the easiest way is to do it by holding the other factor constant:\n",
    "\n",
    "* Price impact = [Change in price] * Quantity\n",
    "* Quantity impact = [Change in Quantity] * Price\n",
    "\n",
    "Unfortunately, when both prices & quantities change at the same time, application of above formulas doesn't add up to total change in revenue. I find it easiest to illustrate it geometrically, where we can think of revenue represented by the area of a rectangle, with price/quantity representing the two axes.\n",
    " \n",
    "<img src=\"img/geometric-pvm-illustration.png\" alt=\"Geometric PVM illustration\" style=\"width: 550px;\"/>\n",
    "\n",
    "So what do we do with that pesky $(\\text{Price}_2 - \\text{Price}_1) * (\\text{Quantity}_2 - \\text{Quantity}_1)$ component? There are several approaches. One of them is completely wrong: to call it a mix effect. Unfortunately, it's not uncommon to see exactly that. It has nothing to do with true mix effect (that we'll get to eventually). Never do that. As for \"valid alternatives\":\n",
    "\n",
    "* Most commonly, the component is folded into either of the two effects, by slighly modifiying the formula. Typically, it's the price effect that gets updated to be $(\\text{Price}_2 - \\text{Price}_1) * \\text{Quantity}_2$. You can think about it as an implicit assumption that the business is price-driven, and so any \"joint\" effects are primarily attributable to price changes.\n",
    "* I've seen analyses that present this component separately. It's a rare approach - primarily because its interpretation is not straightforward, and you don't want to spend 15min explaining what it means to the CEO every time. It's also not very intuitive; e.g. if prices and volumes both decline, this component is positive. While it makes sense once you ponder about it, again, it creates more trouble than it may be worth.\n",
    "* Some teams in EY used an approach where the component was allocated to price or volume effect depending on whether volumes were going up or down. The precise formulas were $\\text{Price effect} = (\\text{Price}_2 - \\text{Price}_1) * Min(\\text{Quantity}_1, \\text{Quantity}_2)$ and $\\text{Volume effect} = (\\text{Quantity}_2 - \\text{Quantity}_1) * \\text{Price}_{argmin(\\text{Quantity}_1, \\text{Quantity}_2)}$ I've never seen an satisfying reasoning for it ¯\\\\_(ツ)_/¯. I _think_ it tries to make effects more \"symmetric\" or perhaps(?) account for price elasticity - if it's the former, I don't think it's a valid mathematical reason, and if it's the latter, I don't think it works properly either. Perhaps one day I'll write short exploration of it separately.\n",
    "\n",
    "For the rest of the post, we'll go with the most common approach:\n",
    "$$\n",
    "\\text{Price effect} = (\\text{Price}_2 - \\text{Price}_1) * \\text{Quantity}_2 \\\\ \n",
    "\\text{Volume effect} = (\\text{Quantity}_2 - \\text{Quantity}_1) * \\text{Price}_1\n",
    "$$"
   ]
  },
  {
   "cell_type": "markdown",
   "metadata": {},
   "source": [
    "Final caveat: in case data does not exist in either of the periods (e.g. you're calculating effects for a newly launched or discontinued product), the full effect, of course, is of volume in nature. In practice, formulas thus should contain an extra \"if\" clause to capture it:\n",
    "\n",
    "$$\n",
    "\\text{Price effect} = \n",
    "\\left\\{ \n",
    "    \\begin{array}{ c l }\n",
    "    (\\text{P}_2 - \\text{P}_1) * \\text{Q}_2 & \\quad \\textrm{if } \\text{Q}_2 \\ge 0 \\text{ and } \\text{Q}_1 \\ge 0 \\\\\n",
    "    0 & \\quad \\textrm{otherwise}\n",
    "  \\end{array}\n",
    "\\right.\n",
    "$$\n",
    "\n",
    "$$\n",
    "\\text{Volume effect} = \n",
    "\\left\\{ \n",
    "    \\begin{array}{ c l }\n",
    "    (\\text{Q}_2 - \\text{Q}_1) * \\text{P}_1 & \\quad \\textrm{if } \\text{Q}_2 \\ge 0 \\text{ and } \\text{Q}_1 \\ge 0 \\\\\n",
    "    \\text{Q}_2 * \\text{P}_2 - \\text{Q}_1 * \\text{P}_1 & \\quad \\textrm{otherwise}\n",
    "  \\end{array}\n",
    "\\right.\n",
    "$$\n"
   ]
  },
  {
   "cell_type": "markdown",
   "metadata": {},
   "source": [
    "Let's now apply it on our summarized dataset:"
   ]
  },
  {
   "cell_type": "code",
   "execution_count": 3,
   "metadata": {},
   "outputs": [
    {
     "name": "stdout",
     "output_type": "stream",
     "text": [
      "Price effect: 25.20\n",
      "Volume effect: 1533.58\n",
      "Total change: 1558.78\n",
      "Total effect is equal to revenue change: True\n",
      "Price effect as % of total change: 0.02\n"
     ]
    }
   ],
   "source": [
    "pandas_totals = totals.to_pandas().set_index(\"KPI\")\n",
    "\n",
    "p2017 = pandas_totals.loc[\"Average price\", \"2017\"]\n",
    "p2018 = pandas_totals.loc[\"Average price\", \"2018\"]\n",
    "q2017 = pandas_totals.loc[\"Total products sold ('000)\", \"2017\"]\n",
    "q2018 = pandas_totals.loc[\"Total products sold ('000)\", \"2018\"]\n",
    "r2017 = pandas_totals.loc[\"Total revenue ('000)\", \"2017\"]\n",
    "r2018 = pandas_totals.loc[\"Total revenue ('000)\", \"2018\"]\n",
    "\n",
    "price_effect = (p2018 - p2017) * q2018\n",
    "volume_effect = (q2018 - q2017) * p2017\n",
    "\n",
    "print(f\"Price effect: {price_effect:.2f}\")\n",
    "print(f\"Volume effect: {volume_effect:.2f}\")\n",
    "print(f\"Total change: {price_effect + volume_effect:.2f}\")\n",
    "print(\n",
    "    f\"Total effect is equal to revenue change: {np.isclose(price_effect + volume_effect, r2018 - r2017)}\"\n",
    ")\n",
    "print(\n",
    "    f\"Price effect as % of total change: {price_effect/(price_effect + volume_effect):.2f}\"\n",
    ")"
   ]
  },
  {
   "cell_type": "markdown",
   "metadata": {},
   "source": [
    "Great, so we've quantified that (average) price changes only contributed to 25k (2% of overall change) increase in Olist revenue. We can even put it on a fancy waterfall chart."
   ]
  },
  {
   "cell_type": "code",
   "execution_count": 4,
   "metadata": {},
   "outputs": [
    {
     "data": {
      "text/html": [
       "\n",
       "<style>\n",
       "  #altair-viz-716461e572e7470fa5dca04a053db6eb.vega-embed {\n",
       "    width: 100%;\n",
       "    display: flex;\n",
       "  }\n",
       "\n",
       "  #altair-viz-716461e572e7470fa5dca04a053db6eb.vega-embed details,\n",
       "  #altair-viz-716461e572e7470fa5dca04a053db6eb.vega-embed details summary {\n",
       "    position: relative;\n",
       "  }\n",
       "</style>\n",
       "<div id=\"altair-viz-716461e572e7470fa5dca04a053db6eb\"></div>\n",
       "<script type=\"text/javascript\">\n",
       "  var VEGA_DEBUG = (typeof VEGA_DEBUG == \"undefined\") ? {} : VEGA_DEBUG;\n",
       "  (function(spec, embedOpt){\n",
       "    let outputDiv = document.currentScript.previousElementSibling;\n",
       "    if (outputDiv.id !== \"altair-viz-716461e572e7470fa5dca04a053db6eb\") {\n",
       "      outputDiv = document.getElementById(\"altair-viz-716461e572e7470fa5dca04a053db6eb\");\n",
       "    }\n",
       "    const paths = {\n",
       "      \"vega\": \"https://cdn.jsdelivr.net/npm/vega@5?noext\",\n",
       "      \"vega-lib\": \"https://cdn.jsdelivr.net/npm/vega-lib?noext\",\n",
       "      \"vega-lite\": \"https://cdn.jsdelivr.net/npm/vega-lite@5.14.1?noext\",\n",
       "      \"vega-embed\": \"https://cdn.jsdelivr.net/npm/vega-embed@6?noext\",\n",
       "    };\n",
       "\n",
       "    function maybeLoadScript(lib, version) {\n",
       "      var key = `${lib.replace(\"-\", \"\")}_version`;\n",
       "      return (VEGA_DEBUG[key] == version) ?\n",
       "        Promise.resolve(paths[lib]) :\n",
       "        new Promise(function(resolve, reject) {\n",
       "          var s = document.createElement('script');\n",
       "          document.getElementsByTagName(\"head\")[0].appendChild(s);\n",
       "          s.async = true;\n",
       "          s.onload = () => {\n",
       "            VEGA_DEBUG[key] = version;\n",
       "            return resolve(paths[lib]);\n",
       "          };\n",
       "          s.onerror = () => reject(`Error loading script: ${paths[lib]}`);\n",
       "          s.src = paths[lib];\n",
       "        });\n",
       "    }\n",
       "\n",
       "    function showError(err) {\n",
       "      outputDiv.innerHTML = `<div class=\"error\" style=\"color:red;\">${err}</div>`;\n",
       "      throw err;\n",
       "    }\n",
       "\n",
       "    function displayChart(vegaEmbed) {\n",
       "      vegaEmbed(outputDiv, spec, embedOpt)\n",
       "        .catch(err => showError(`Javascript Error: ${err.message}<br>This usually means there's a typo in your chart specification. See the javascript console for the full traceback.`));\n",
       "    }\n",
       "\n",
       "    if(typeof define === \"function\" && define.amd) {\n",
       "      requirejs.config({paths});\n",
       "      require([\"vega-embed\"], displayChart, err => showError(`Error loading script: ${err.message}`));\n",
       "    } else {\n",
       "      maybeLoadScript(\"vega\", \"5\")\n",
       "        .then(() => maybeLoadScript(\"vega-lite\", \"5.14.1\"))\n",
       "        .then(() => maybeLoadScript(\"vega-embed\", \"6\"))\n",
       "        .catch(showError)\n",
       "        .then(() => displayChart(vegaEmbed));\n",
       "    }\n",
       "  })({\"config\": {\"view\": {\"continuousWidth\": 300, \"continuousHeight\": 300}}, \"layer\": [{\"mark\": {\"type\": \"bar\"}, \"encoding\": {\"color\": {\"field\": \"color\", \"scale\": null, \"type\": \"nominal\"}, \"tooltip\": [{\"field\": \"running_total\", \"type\": \"quantitative\"}, {\"field\": \"amount\", \"type\": \"quantitative\"}, {\"field\": \"label\", \"type\": \"nominal\"}], \"x\": {\"axis\": {\"labelAngle\": 0, \"labelExpr\": \"datum.value =='1' ? '2017' : datum.value =='2' ? 'Price effect' : datum.value =='3' ? 'Volume effect' : datum.value =='4' ? '2018' : ''\", \"title\": \"\"}, \"field\": \"row_number\", \"type\": \"nominal\"}, \"y\": {\"field\": \"running_total\", \"type\": \"quantitative\"}, \"y2\": {\"field\": \"prev_running_total\"}}}, {\"mark\": {\"type\": \"text\"}, \"encoding\": {\"text\": {\"field\": \"text_label\", \"type\": \"nominal\"}, \"tooltip\": [{\"field\": \"running_total\", \"type\": \"quantitative\"}, {\"field\": \"amount\", \"type\": \"quantitative\"}], \"x\": {\"axis\": {\"labelAngle\": 0, \"labelExpr\": \"datum.value =='1' ? '2017' : datum.value =='2' ? 'Price effect' : datum.value =='3' ? 'Volume effect' : datum.value =='4' ? '2018' : ''\", \"title\": \"\"}, \"field\": \"row_number\", \"type\": \"nominal\"}, \"y\": {\"field\": \"text_label_position\", \"title\": \"\", \"type\": \"quantitative\"}}}, {\"mark\": {\"type\": \"text\", \"dy\": -10}, \"encoding\": {\"text\": {\"field\": \"total_text_label\", \"type\": \"nominal\"}, \"x\": {\"axis\": {\"labelAngle\": 0, \"labelExpr\": \"datum.value =='1' ? '2017' : datum.value =='2' ? 'Price effect' : datum.value =='3' ? 'Volume effect' : datum.value =='4' ? '2018' : ''\", \"title\": \"\"}, \"field\": \"row_number\", \"type\": \"nominal\"}, \"y\": {\"field\": \"text_label_position\", \"title\": \"\", \"type\": \"quantitative\"}}}], \"data\": {\"name\": \"data-f5394577df5747fedfff518f633cde18\"}, \"title\": \"Olist revenue bridge 2017-2018\", \"width\": 500, \"$schema\": \"https://vega.github.io/schema/vega-lite/v5.14.1.json\", \"datasets\": {\"data-f5394577df5747fedfff518f633cde18\": [{\"label\": \"2017\", \"amount\": 6805.5, \"running_total\": 6805.5, \"prev_running_total\": 0.0, \"text_label\": \"\", \"total_text_label\": \"6805.5\", \"color\": \"orange\", \"text_label_position\": 6805.5, \"row_number\": 1}, {\"label\": \"Price effect\", \"amount\": 25.2, \"running_total\": 6830.7, \"prev_running_total\": 6805.5, \"text_label\": \"+25.2\", \"total_text_label\": \"\", \"color\": \"green\", \"text_label_position\": 6818.1, \"row_number\": 2}, {\"label\": \"Volume effect\", \"amount\": 1533.6, \"running_total\": 8364.3, \"prev_running_total\": 6830.7, \"text_label\": \"+1533.6\", \"total_text_label\": \"\", \"color\": \"green\", \"text_label_position\": 7597.5, \"row_number\": 3}, {\"label\": \"2018\", \"amount\": 0.0, \"running_total\": 8364.3, \"prev_running_total\": 0.0, \"text_label\": \"\", \"total_text_label\": \"8364.3\", \"color\": \"orange\", \"text_label_position\": 8364.3, \"row_number\": 4}]}}, {\"mode\": \"vega-lite\"});\n",
       "</script>"
      ],
      "text/plain": [
       "alt.LayerChart(...)"
      ]
     },
     "execution_count": 4,
     "metadata": {},
     "output_type": "execute_result"
    }
   ],
   "source": [
    "pmv_charts.waterfall(\n",
    "    [\n",
    "        (\"2017\", True, r2017),\n",
    "        (\"Price effect\", False, price_effect),\n",
    "        (\"Volume effect\", False, volume_effect),\n",
    "        (\"2018\", True, 0),\n",
    "    ]\n",
    ").properties(width=500, title=\"Olist revenue bridge 2017-2018\")"
   ]
  },
  {
   "cell_type": "markdown",
   "metadata": {},
   "source": [
    "This, of course, is not really useful. You don't really need price-volume analysis for above. Where PVM shines, however, is when you want to go a bit deeper. Suppose that our executive team is interested in understanding how different geographical areas are performing - and whether some specific states are under price pressure due to some local competitors.\n",
    "\n",
    "Let's first have a look at data to get a sense on how company performance looks like when broken down by geography. We can, for example, visualize the % changes in average price, volume and revenue by state.\n"
   ]
  },
  {
   "cell_type": "code",
   "execution_count": 5,
   "metadata": {},
   "outputs": [
    {
     "data": {
      "text/html": [
       "\n",
       "<style>\n",
       "  #altair-viz-e05f9f40a2cb4ad7b8320835f4e96b0b.vega-embed {\n",
       "    width: 100%;\n",
       "    display: flex;\n",
       "  }\n",
       "\n",
       "  #altair-viz-e05f9f40a2cb4ad7b8320835f4e96b0b.vega-embed details,\n",
       "  #altair-viz-e05f9f40a2cb4ad7b8320835f4e96b0b.vega-embed details summary {\n",
       "    position: relative;\n",
       "  }\n",
       "</style>\n",
       "<div id=\"altair-viz-e05f9f40a2cb4ad7b8320835f4e96b0b\"></div>\n",
       "<script type=\"text/javascript\">\n",
       "  var VEGA_DEBUG = (typeof VEGA_DEBUG == \"undefined\") ? {} : VEGA_DEBUG;\n",
       "  (function(spec, embedOpt){\n",
       "    let outputDiv = document.currentScript.previousElementSibling;\n",
       "    if (outputDiv.id !== \"altair-viz-e05f9f40a2cb4ad7b8320835f4e96b0b\") {\n",
       "      outputDiv = document.getElementById(\"altair-viz-e05f9f40a2cb4ad7b8320835f4e96b0b\");\n",
       "    }\n",
       "    const paths = {\n",
       "      \"vega\": \"https://cdn.jsdelivr.net/npm/vega@5?noext\",\n",
       "      \"vega-lib\": \"https://cdn.jsdelivr.net/npm/vega-lib?noext\",\n",
       "      \"vega-lite\": \"https://cdn.jsdelivr.net/npm/vega-lite@5.14.1?noext\",\n",
       "      \"vega-embed\": \"https://cdn.jsdelivr.net/npm/vega-embed@6?noext\",\n",
       "    };\n",
       "\n",
       "    function maybeLoadScript(lib, version) {\n",
       "      var key = `${lib.replace(\"-\", \"\")}_version`;\n",
       "      return (VEGA_DEBUG[key] == version) ?\n",
       "        Promise.resolve(paths[lib]) :\n",
       "        new Promise(function(resolve, reject) {\n",
       "          var s = document.createElement('script');\n",
       "          document.getElementsByTagName(\"head\")[0].appendChild(s);\n",
       "          s.async = true;\n",
       "          s.onload = () => {\n",
       "            VEGA_DEBUG[key] = version;\n",
       "            return resolve(paths[lib]);\n",
       "          };\n",
       "          s.onerror = () => reject(`Error loading script: ${paths[lib]}`);\n",
       "          s.src = paths[lib];\n",
       "        });\n",
       "    }\n",
       "\n",
       "    function showError(err) {\n",
       "      outputDiv.innerHTML = `<div class=\"error\" style=\"color:red;\">${err}</div>`;\n",
       "      throw err;\n",
       "    }\n",
       "\n",
       "    function displayChart(vegaEmbed) {\n",
       "      vegaEmbed(outputDiv, spec, embedOpt)\n",
       "        .catch(err => showError(`Javascript Error: ${err.message}<br>This usually means there's a typo in your chart specification. See the javascript console for the full traceback.`));\n",
       "    }\n",
       "\n",
       "    if(typeof define === \"function\" && define.amd) {\n",
       "      requirejs.config({paths});\n",
       "      require([\"vega-embed\"], displayChart, err => showError(`Error loading script: ${err.message}`));\n",
       "    } else {\n",
       "      maybeLoadScript(\"vega\", \"5\")\n",
       "        .then(() => maybeLoadScript(\"vega-lite\", \"5.14.1\"))\n",
       "        .then(() => maybeLoadScript(\"vega-embed\", \"6\"))\n",
       "        .catch(showError)\n",
       "        .then(() => displayChart(vegaEmbed));\n",
       "    }\n",
       "  })({\"config\": {\"view\": {\"continuousWidth\": 300, \"continuousHeight\": 300}}, \"data\": {\"name\": \"data-1ba2aa46e2cc5427ff129d1e109c1f14\"}, \"mark\": {\"type\": \"bar\"}, \"encoding\": {\"color\": {\"condition\": {\"test\": \"(datum['% change'] < 0)\", \"value\": \"red\"}, \"value\": \"green\"}, \"row\": {\"field\": \"KPI\", \"type\": \"nominal\"}, \"tooltip\": {\"field\": \"% change\", \"type\": \"quantitative\"}, \"x\": {\"axis\": {\"labelAngle\": 0}, \"field\": \"customer_state\", \"type\": \"nominal\"}, \"y\": {\"field\": \"% change\", \"type\": \"quantitative\"}}, \"height\": 100, \"resolve\": {\"scale\": {\"y\": \"independent\"}}, \"width\": 550, \"$schema\": \"https://vega.github.io/schema/vega-lite/v5.14.1.json\", \"datasets\": {\"data-1ba2aa46e2cc5427ff129d1e109c1f14\": [{\"customer_state\": \"SP\", \"KPI\": \"Total revenue ('000)\", \"2017\": 2386.7065900000302, \"2018\": 3296.7688099999855, \"change\": 910.0622199999552, \"% change\": 38.13046077020903}, {\"customer_state\": \"PR\", \"KPI\": \"Total revenue ('000)\", \"2017\": 331.30618000000106, \"2018\": 438.2738599999998, \"change\": 106.96767999999872, \"% change\": 32.28665399480274}, {\"customer_state\": \"DF\", \"KPI\": \"Total revenue ('000)\", \"2017\": 149.98424999999978, \"2018\": 191.82041000000004, \"change\": 41.83616000000026, \"% change\": 27.89370217206162}, {\"customer_state\": \"PE\", \"KPI\": \"Total revenue ('000)\", \"2017\": 138.97725999999977, \"2018\": 163.49593999999988, \"change\": 24.518680000000103, \"% change\": 17.642224346630623}, {\"customer_state\": \"SC\", \"KPI\": \"Total revenue ('000)\", \"2017\": 257.7867200000005, \"2018\": 326.8028000000002, \"change\": 69.0160799999997, \"% change\": 26.77255057979696}, {\"customer_state\": \"BA\", \"KPI\": \"Total revenue ('000)\", \"2017\": 266.0660100000006, \"2018\": 317.20516999999955, \"change\": 51.13915999999898, \"% change\": 19.22047840684305}, {\"customer_state\": \"MS\", \"KPI\": \"Total revenue ('000)\", \"2017\": 59.53907000000003, \"2018\": 74.05246999999999, \"change\": 14.513399999999955, \"% change\": 24.37626251132231}, {\"customer_state\": \"ES\", \"KPI\": \"Total revenue ('000)\", \"2017\": 136.6122300000001, \"2018\": 178.1491599999999, \"change\": 41.53692999999981, \"% change\": 30.40498643496251}, {\"customer_state\": \"RO\", \"KPI\": \"Total revenue ('000)\", \"2017\": 30.161139999999985, \"2018\": 25.989599999999992, \"change\": -4.171539999999993, \"% change\": -13.83084326388192}, {\"customer_state\": \"RN\", \"KPI\": \"Total revenue ('000)\", \"2017\": 43.14932, \"2018\": 55.92187999999997, \"change\": 12.77255999999997, \"% change\": 29.600837278548003}, {\"customer_state\": \"RR\", \"KPI\": \"Total revenue ('000)\", \"2017\": 2.00658, \"2018\": 6.662100000000001, \"change\": 4.655520000000001, \"% change\": 232.01267828843112}, {\"customer_state\": \"RS\", \"KPI\": \"Total revenue ('000)\", \"2017\": 406.8676200000018, \"2018\": 440.5136699999997, \"change\": 33.6460499999979, \"% change\": 8.269532483316748}, {\"customer_state\": \"MA\", \"KPI\": \"Total revenue ('000)\", \"2017\": 71.75550000000007, \"2018\": 73.34144, \"change\": 1.5859399999999368, \"% change\": 2.210199914989005}, {\"customer_state\": \"PI\", \"KPI\": \"Total revenue ('000)\", \"2017\": 43.21739999999997, \"2018\": 60.875509999999956, \"change\": 17.658109999999986, \"% change\": 40.85879761392402}, {\"customer_state\": \"PB\", \"KPI\": \"Total revenue ('000)\", \"2017\": 57.774110000000015, \"2018\": 76.91972, \"change\": 19.145609999999984, \"% change\": 33.138736364783426}, {\"customer_state\": \"MT\", \"KPI\": \"Total revenue ('000)\", \"2017\": 88.31748999999995, \"2018\": 91.55444, \"change\": 3.23695000000005, \"% change\": 3.6651290701310146}, {\"customer_state\": \"AP\", \"KPI\": \"Total revenue ('000)\", \"2017\": 7.210539999999998, \"2018\": 8.93127, \"change\": 1.7207300000000014, \"% change\": 23.864093396611096}, {\"customer_state\": \"MG\", \"KPI\": \"Total revenue ('000)\", \"2017\": 812.9060399999969, \"2018\": 978.5621499999958, \"change\": 165.65610999999888, \"% change\": 20.37826044446656}, {\"customer_state\": \"CE\", \"KPI\": \"Total revenue ('000)\", \"2017\": 131.15981999999977, \"2018\": 129.93458000000007, \"change\": -1.225239999999701, \"% change\": -0.9341580371181534}, {\"customer_state\": \"GO\", \"KPI\": \"Total revenue ('000)\", \"2017\": 151.2571300000001, \"2018\": 172.36321000000007, \"change\": 21.106079999999963, \"% change\": 13.953775269965751}, {\"customer_state\": \"RJ\", \"KPI\": \"Total revenue ('000)\", \"2017\": 993.9497499999954, \"2018\": 1025.608629999993, \"change\": 31.658879999997453, \"% change\": 3.185159008289664}, {\"customer_state\": \"AL\", \"KPI\": \"Total revenue ('000)\", \"2017\": 50.52747999999998, \"2018\": 42.87797, \"change\": -7.649509999999985, \"% change\": -15.139306373482286}, {\"customer_state\": \"PA\", \"KPI\": \"Total revenue ('000)\", \"2017\": 98.5079400000001, \"2018\": 101.89404, \"change\": 3.3860999999998995, \"% change\": 3.437387889747665}, {\"customer_state\": \"AM\", \"KPI\": \"Total revenue ('000)\", \"2017\": 12.195269999999999, \"2018\": 14.751539999999999, \"change\": 2.5562699999999996, \"% change\": 20.961159531523286}, {\"customer_state\": \"TO\", \"KPI\": \"Total revenue ('000)\", \"2017\": 27.63025999999999, \"2018\": 31.851859999999974, \"change\": 4.2215999999999845, \"% change\": 15.278900741433436}, {\"customer_state\": \"SE\", \"KPI\": \"Total revenue ('000)\", \"2017\": 37.206950000000006, \"2018\": 32.51322, \"change\": -4.693730000000009, \"% change\": -12.615196891978538}, {\"customer_state\": \"AC\", \"KPI\": \"Total revenue ('000)\", \"2017\": 12.76489, \"2018\": 6.6831000000000005, \"change\": -6.081789999999999, \"% change\": -47.64467222200896}, {\"customer_state\": \"SP\", \"KPI\": \"Total products sold ('000)\", \"2017\": 19.145, \"2018\": 26.559, \"change\": 7.4140000000000015, \"% change\": 38.725515800470106}, {\"customer_state\": \"PR\", \"KPI\": \"Total products sold ('000)\", \"2017\": 2.474, \"2018\": 3.068, \"change\": 0.5939999999999999, \"% change\": 24.009700889248172}, {\"customer_state\": \"DF\", \"KPI\": \"Total products sold ('000)\", \"2017\": 1.0, \"2018\": 1.315, \"change\": 0.31499999999999995, \"% change\": 31.499999999999993}, {\"customer_state\": \"PE\", \"KPI\": \"Total products sold ('000)\", \"2017\": 0.809, \"2018\": 0.907, \"change\": 0.09799999999999998, \"% change\": 12.113720642768847}, {\"customer_state\": \"SC\", \"KPI\": \"Total products sold ('000)\", \"2017\": 1.851, \"2018\": 2.173, \"change\": 0.32200000000000006, \"% change\": 17.396002160994062}, {\"customer_state\": \"BA\", \"KPI\": \"Total products sold ('000)\", \"2017\": 1.715, \"2018\": 1.906, \"change\": 0.19099999999999984, \"% change\": 11.137026239067046}, {\"customer_state\": \"MS\", \"KPI\": \"Total products sold ('000)\", \"2017\": 0.329, \"2018\": 0.473, \"change\": 0.14399999999999996, \"% change\": 43.768996960486305}, {\"customer_state\": \"ES\", \"KPI\": \"Total products sold ('000)\", \"2017\": 1.045, \"2018\": 1.159, \"change\": 0.1140000000000001, \"% change\": 10.909090909090919}, {\"customer_state\": \"RO\", \"KPI\": \"Total products sold ('000)\", \"2017\": 0.152, \"2018\": 0.115, \"change\": -0.03699999999999999, \"% change\": -24.34210526315789}, {\"customer_state\": \"RN\", \"KPI\": \"Total products sold ('000)\", \"2017\": 0.253, \"2018\": 0.257, \"change\": 0.0040000000000000036, \"% change\": 1.581027667984191}, {\"customer_state\": \"RR\", \"KPI\": \"Total products sold ('000)\", \"2017\": 0.019, \"2018\": 0.024, \"change\": 0.005000000000000001, \"% change\": 26.315789473684216}, {\"customer_state\": \"RS\", \"KPI\": \"Total products sold ('000)\", \"2017\": 2.903, \"2018\": 3.118, \"change\": 0.21499999999999986, \"% change\": 7.406131588012396}, {\"customer_state\": \"MA\", \"KPI\": \"Total products sold ('000)\", \"2017\": 0.398, \"2018\": 0.384, \"change\": -0.014000000000000012, \"% change\": -3.5175879396984953}, {\"customer_state\": \"PI\", \"KPI\": \"Total products sold ('000)\", \"2017\": 0.234, \"2018\": 0.281, \"change\": 0.047000000000000014, \"% change\": 20.08547008547009}, {\"customer_state\": \"PB\", \"KPI\": \"Total products sold ('000)\", \"2017\": 0.273, \"2018\": 0.303, \"change\": 0.02999999999999997, \"% change\": 10.989010989010978}, {\"customer_state\": \"MT\", \"KPI\": \"Total products sold ('000)\", \"2017\": 0.474, \"2018\": 0.549, \"change\": 0.07500000000000007, \"% change\": 15.822784810126597}, {\"customer_state\": \"AP\", \"KPI\": \"Total products sold ('000)\", \"2017\": 0.038, \"2018\": 0.043, \"change\": 0.0049999999999999975, \"% change\": 13.157894736842099}, {\"customer_state\": \"MG\", \"KPI\": \"Total products sold ('000)\", \"2017\": 5.901, \"2018\": 6.794, \"change\": 0.8929999999999998, \"% change\": 15.133028300288084}, {\"customer_state\": \"CE\", \"KPI\": \"Total products sold ('000)\", \"2017\": 0.699, \"2018\": 0.705, \"change\": 0.006000000000000005, \"% change\": 0.8583690987124473}, {\"customer_state\": \"GO\", \"KPI\": \"Total products sold ('000)\", \"2017\": 1.052, \"2018\": 1.166, \"change\": 0.11399999999999988, \"% change\": 10.836501901140673}, {\"customer_state\": \"RJ\", \"KPI\": \"Total products sold ('000)\", \"2017\": 6.684, \"2018\": 7.199, \"change\": 0.5149999999999997, \"% change\": 7.704967085577493}, {\"customer_state\": \"AL\", \"KPI\": \"Total products sold ('000)\", \"2017\": 0.214, \"2018\": 0.208, \"change\": -0.006000000000000005, \"% change\": -2.803738317757012}, {\"customer_state\": \"PA\", \"KPI\": \"Total products sold ('000)\", \"2017\": 0.53, \"2018\": 0.499, \"change\": -0.031000000000000028, \"% change\": -5.84905660377359}, {\"customer_state\": \"AM\", \"KPI\": \"Total products sold ('000)\", \"2017\": 0.076, \"2018\": 0.085, \"change\": 0.009000000000000008, \"% change\": 11.842105263157904}, {\"customer_state\": \"TO\", \"KPI\": \"Total products sold ('000)\", \"2017\": 0.143, \"2018\": 0.163, \"change\": 0.020000000000000018, \"% change\": 13.986013986014001}, {\"customer_state\": \"SE\", \"KPI\": \"Total products sold ('000)\", \"2017\": 0.209, \"2018\": 0.161, \"change\": -0.04799999999999999, \"% change\": -22.96650717703349}, {\"customer_state\": \"AC\", \"KPI\": \"Total products sold ('000)\", \"2017\": 0.057, \"2018\": 0.032, \"change\": -0.025, \"% change\": -43.85964912280702}, {\"customer_state\": \"SP\", \"KPI\": \"Average price\", \"2017\": 124.66474745364484, \"2018\": 124.13000527128226, \"change\": -0.534742182362578, \"% change\": -0.42894418292662545}, {\"customer_state\": \"PR\", \"KPI\": \"Average price\", \"2017\": 133.9151899757482, \"2018\": 142.8532790091264, \"change\": 8.93808903337819, \"% change\": 6.674440020580834}, {\"customer_state\": \"DF\", \"KPI\": \"Average price\", \"2017\": 149.98424999999978, \"2018\": 145.87103422053235, \"change\": -4.113215779467424, \"% change\": -2.7424318083181602}, {\"customer_state\": \"PE\", \"KPI\": \"Average price\", \"2017\": 171.78894932014805, \"2018\": 180.26013230429976, \"change\": 8.47118298415171, \"% change\": 4.931157107413648}, {\"customer_state\": \"SC\", \"KPI\": \"Average price\", \"2017\": 139.26889249054594, \"2018\": 150.39245283018877, \"change\": 11.123560339642836, \"% change\": 7.987110503085204}, {\"customer_state\": \"BA\", \"KPI\": \"Average price\", \"2017\": 155.14053061224521, \"2018\": 166.4245383001047, \"change\": 11.284007687859486, \"% change\": 7.273410528717658}, {\"customer_state\": \"MS\", \"KPI\": \"Average price\", \"2017\": 180.9698176291794, \"2018\": 156.55913319238897, \"change\": -24.410684436790433, \"% change\": -13.488815293393145}, {\"customer_state\": \"ES\", \"KPI\": \"Average price\", \"2017\": 130.7294066985647, \"2018\": 153.70937014667808, \"change\": 22.97996344811338, \"% change\": 17.57826645775306}, {\"customer_state\": \"RO\", \"KPI\": \"Average price\", \"2017\": 198.42855263157887, \"2018\": 225.99652173913034, \"change\": 27.567969107551477, \"% change\": 13.89314629469518}, {\"customer_state\": \"RN\", \"KPI\": \"Average price\", \"2017\": 170.5506719367589, \"2018\": 217.59486381322947, \"change\": 47.04419187647056, \"% change\": 27.58370362440718}, {\"customer_state\": \"RR\", \"KPI\": \"Average price\", \"2017\": 105.60947368421053, \"2018\": 277.58750000000003, \"change\": 171.97802631578952, \"% change\": 162.84337031167465}, {\"customer_state\": \"RS\", \"KPI\": \"Average price\", \"2017\": 140.15419221495068, \"2018\": 141.2808434894162, \"change\": 1.1266512744655302, \"% change\": 0.8038655545441092}, {\"customer_state\": \"MA\", \"KPI\": \"Average price\", \"2017\": 180.2902010050253, \"2018\": 190.99333333333334, \"change\": 10.703132328308044, \"% change\": 5.936613453556309}, {\"customer_state\": \"PI\", \"KPI\": \"Average price\", \"2017\": 184.68974358974344, \"2018\": 216.6388256227756, \"change\": 31.94908203303217, \"% change\": 17.298785201630672}, {\"customer_state\": \"PB\", \"KPI\": \"Average price\", \"2017\": 211.6267765567766, \"2018\": 253.86046204620462, \"change\": 42.23368548942801, \"% change\": 19.95668325935933}, {\"customer_state\": \"MT\", \"KPI\": \"Average price\", \"2017\": 186.32381856540076, \"2018\": 166.76582877959925, \"change\": -19.55798978580151, \"% change\": -10.496773808302207}, {\"customer_state\": \"AP\", \"KPI\": \"Average price\", \"2017\": 189.75105263157891, \"2018\": 207.7039534883721, \"change\": 17.95290085679318, \"% change\": 9.461291838865618}, {\"customer_state\": \"MG\", \"KPI\": \"Average price\", \"2017\": 137.75733604473766, \"2018\": 144.033286723579, \"change\": 6.275950678841355, \"% change\": 4.55580142519829}, {\"customer_state\": \"CE\", \"KPI\": \"Average price\", \"2017\": 187.63922746781083, \"2018\": 184.30436879432634, \"change\": -3.33485867348449, \"% change\": -1.7772715857384243}, {\"customer_state\": \"GO\", \"KPI\": \"Average price\", \"2017\": 143.78054182509516, \"2018\": 147.82436535162958, \"change\": 4.043823526534425, \"% change\": 2.8124970703293206}, {\"customer_state\": \"RJ\", \"KPI\": \"Average price\", \"2017\": 148.7058273488922, \"2018\": 142.46542992082135, \"change\": -6.24039742807085, \"% change\": -4.196471341657438}, {\"customer_state\": \"AL\", \"KPI\": \"Average price\", \"2017\": 236.10971962616816, \"2018\": 206.14408653846155, \"change\": -29.965633087706607, \"% change\": -12.691401749640423}, {\"customer_state\": \"PA\", \"KPI\": \"Average price\", \"2017\": 185.86403773584925, \"2018\": 204.1964729458918, \"change\": 18.332435210042547, \"% change\": 9.86335787889031}, {\"customer_state\": \"AM\", \"KPI\": \"Average price\", \"2017\": 160.46407894736842, \"2018\": 173.54752941176469, \"change\": 13.083450464396265, \"% change\": 8.153507345832574}, {\"customer_state\": \"TO\", \"KPI\": \"Average price\", \"2017\": 193.21860139860135, \"2018\": 195.4101840490796, \"change\": 2.1915826504782387, \"% change\": 1.1342503437115257}, {\"customer_state\": \"SE\", \"KPI\": \"Average price\", \"2017\": 178.02368421052634, \"2018\": 201.94546583850928, \"change\": 23.921781627982938, \"% change\": 13.437415214760772}, {\"customer_state\": \"AC\", \"KPI\": \"Average price\", \"2017\": 223.94543859649121, \"2018\": 208.846875, \"change\": -15.098563596491203, \"% change\": -6.742072395453456}]}}, {\"mode\": \"vega-lite\"});\n",
       "</script>"
      ],
      "text/plain": [
       "alt.Chart(...)"
      ]
     },
     "execution_count": 5,
     "metadata": {},
     "output_type": "execute_result"
    }
   ],
   "source": [
    "totals_by_state = (\n",
    "    sales_data.group_by([\"year\", \"customer_state\"])\n",
    "    .agg(\n",
    "        pl.sum(\"revenue\").alias(\"Total revenue ('000)\") / 1000,\n",
    "        pl.sum(\"quantity\").alias(\"Total products sold ('000)\") / 1000,\n",
    "    )\n",
    "    .with_columns(\n",
    "        (pl.col(\"Total revenue ('000)\") / pl.col(\"Total products sold ('000)\")).alias(\n",
    "            \"Average price\"\n",
    "        )\n",
    "    )\n",
    "    .melt(id_vars=[\"year\", \"customer_state\"], variable_name=\"KPI\")\n",
    "    .pivot(index=[\"customer_state\", \"KPI\"], values=\"value\", columns=[\"year\"])\n",
    "    .with_columns(\n",
    "        (pl.col(\"2018\") - pl.col(\"2017\")).alias(\"change\"),\n",
    "        ((pl.col(\"2018\") - pl.col(\"2017\")) / pl.col(\"2017\") * 100).alias(\"% change\"),\n",
    "    )\n",
    ")\n",
    "\n",
    "alt.Chart(totals_by_state).mark_bar().encode(\n",
    "    alt.X(\"customer_state\", axis=alt.Axis(labelAngle=0)),\n",
    "    y=\"% change\",\n",
    "    row=\"KPI\",\n",
    "    tooltip=alt.Tooltip(\"% change\"),\n",
    "    color=alt.condition(\n",
    "        alt.datum[\"% change\"] < 0, alt.ColorValue(\"red\"), alt.ColorValue(\"green\")\n",
    "    ),\n",
    ").properties(width=550, height=100).resolve_scale(y=\"independent\")"
   ]
  },
  {
   "cell_type": "markdown",
   "metadata": {},
   "source": [
    "What we see is that performance indeed varies by geography. There are some states where prices have decreased, and we also see that largest % revenue increase is from RR, which I assume represents [Roraima](https://en.wikipedia.org/wiki/Roraima) - the least populous state in Brazil thats situated in the Amazon rainforest and accounts for just 0.2% of Brazil's GDP. That's not an expected place for growth - and indeed, if we were to display absolute changes instead, we would see that the % changes were deceiving. \n",
    "\n",
    "From an absolute perspective, the dominant state is SP (Sao Paolo). But it's hard to assess what exactly is happening with prices - the 1.6x increase in Roraima is throwing comparisons off."
   ]
  },
  {
   "cell_type": "code",
   "execution_count": 6,
   "metadata": {},
   "outputs": [
    {
     "data": {
      "text/html": [
       "\n",
       "<style>\n",
       "  #altair-viz-b836ca3ff90f427db8736cab3672ad6c.vega-embed {\n",
       "    width: 100%;\n",
       "    display: flex;\n",
       "  }\n",
       "\n",
       "  #altair-viz-b836ca3ff90f427db8736cab3672ad6c.vega-embed details,\n",
       "  #altair-viz-b836ca3ff90f427db8736cab3672ad6c.vega-embed details summary {\n",
       "    position: relative;\n",
       "  }\n",
       "</style>\n",
       "<div id=\"altair-viz-b836ca3ff90f427db8736cab3672ad6c\"></div>\n",
       "<script type=\"text/javascript\">\n",
       "  var VEGA_DEBUG = (typeof VEGA_DEBUG == \"undefined\") ? {} : VEGA_DEBUG;\n",
       "  (function(spec, embedOpt){\n",
       "    let outputDiv = document.currentScript.previousElementSibling;\n",
       "    if (outputDiv.id !== \"altair-viz-b836ca3ff90f427db8736cab3672ad6c\") {\n",
       "      outputDiv = document.getElementById(\"altair-viz-b836ca3ff90f427db8736cab3672ad6c\");\n",
       "    }\n",
       "    const paths = {\n",
       "      \"vega\": \"https://cdn.jsdelivr.net/npm/vega@5?noext\",\n",
       "      \"vega-lib\": \"https://cdn.jsdelivr.net/npm/vega-lib?noext\",\n",
       "      \"vega-lite\": \"https://cdn.jsdelivr.net/npm/vega-lite@5.14.1?noext\",\n",
       "      \"vega-embed\": \"https://cdn.jsdelivr.net/npm/vega-embed@6?noext\",\n",
       "    };\n",
       "\n",
       "    function maybeLoadScript(lib, version) {\n",
       "      var key = `${lib.replace(\"-\", \"\")}_version`;\n",
       "      return (VEGA_DEBUG[key] == version) ?\n",
       "        Promise.resolve(paths[lib]) :\n",
       "        new Promise(function(resolve, reject) {\n",
       "          var s = document.createElement('script');\n",
       "          document.getElementsByTagName(\"head\")[0].appendChild(s);\n",
       "          s.async = true;\n",
       "          s.onload = () => {\n",
       "            VEGA_DEBUG[key] = version;\n",
       "            return resolve(paths[lib]);\n",
       "          };\n",
       "          s.onerror = () => reject(`Error loading script: ${paths[lib]}`);\n",
       "          s.src = paths[lib];\n",
       "        });\n",
       "    }\n",
       "\n",
       "    function showError(err) {\n",
       "      outputDiv.innerHTML = `<div class=\"error\" style=\"color:red;\">${err}</div>`;\n",
       "      throw err;\n",
       "    }\n",
       "\n",
       "    function displayChart(vegaEmbed) {\n",
       "      vegaEmbed(outputDiv, spec, embedOpt)\n",
       "        .catch(err => showError(`Javascript Error: ${err.message}<br>This usually means there's a typo in your chart specification. See the javascript console for the full traceback.`));\n",
       "    }\n",
       "\n",
       "    if(typeof define === \"function\" && define.amd) {\n",
       "      requirejs.config({paths});\n",
       "      require([\"vega-embed\"], displayChart, err => showError(`Error loading script: ${err.message}`));\n",
       "    } else {\n",
       "      maybeLoadScript(\"vega\", \"5\")\n",
       "        .then(() => maybeLoadScript(\"vega-lite\", \"5.14.1\"))\n",
       "        .then(() => maybeLoadScript(\"vega-embed\", \"6\"))\n",
       "        .catch(showError)\n",
       "        .then(() => displayChart(vegaEmbed));\n",
       "    }\n",
       "  })({\"config\": {\"view\": {\"continuousWidth\": 300, \"continuousHeight\": 300}}, \"data\": {\"name\": \"data-1ba2aa46e2cc5427ff129d1e109c1f14\"}, \"mark\": {\"type\": \"bar\"}, \"encoding\": {\"color\": {\"condition\": {\"test\": \"(datum['change'] < 0)\", \"value\": \"red\"}, \"value\": \"green\"}, \"row\": {\"field\": \"KPI\", \"type\": \"nominal\"}, \"tooltip\": {\"field\": \"change\", \"type\": \"quantitative\"}, \"x\": {\"axis\": {\"labelAngle\": 0}, \"field\": \"customer_state\", \"type\": \"nominal\"}, \"y\": {\"field\": \"change\", \"type\": \"quantitative\"}}, \"height\": 100, \"resolve\": {\"scale\": {\"y\": \"independent\"}}, \"width\": 550, \"$schema\": \"https://vega.github.io/schema/vega-lite/v5.14.1.json\", \"datasets\": {\"data-1ba2aa46e2cc5427ff129d1e109c1f14\": [{\"customer_state\": \"SP\", \"KPI\": \"Total revenue ('000)\", \"2017\": 2386.7065900000302, \"2018\": 3296.7688099999855, \"change\": 910.0622199999552, \"% change\": 38.13046077020903}, {\"customer_state\": \"PR\", \"KPI\": \"Total revenue ('000)\", \"2017\": 331.30618000000106, \"2018\": 438.2738599999998, \"change\": 106.96767999999872, \"% change\": 32.28665399480274}, {\"customer_state\": \"DF\", \"KPI\": \"Total revenue ('000)\", \"2017\": 149.98424999999978, \"2018\": 191.82041000000004, \"change\": 41.83616000000026, \"% change\": 27.89370217206162}, {\"customer_state\": \"PE\", \"KPI\": \"Total revenue ('000)\", \"2017\": 138.97725999999977, \"2018\": 163.49593999999988, \"change\": 24.518680000000103, \"% change\": 17.642224346630623}, {\"customer_state\": \"SC\", \"KPI\": \"Total revenue ('000)\", \"2017\": 257.7867200000005, \"2018\": 326.8028000000002, \"change\": 69.0160799999997, \"% change\": 26.77255057979696}, {\"customer_state\": \"BA\", \"KPI\": \"Total revenue ('000)\", \"2017\": 266.0660100000006, \"2018\": 317.20516999999955, \"change\": 51.13915999999898, \"% change\": 19.22047840684305}, {\"customer_state\": \"MS\", \"KPI\": \"Total revenue ('000)\", \"2017\": 59.53907000000003, \"2018\": 74.05246999999999, \"change\": 14.513399999999955, \"% change\": 24.37626251132231}, {\"customer_state\": \"ES\", \"KPI\": \"Total revenue ('000)\", \"2017\": 136.6122300000001, \"2018\": 178.1491599999999, \"change\": 41.53692999999981, \"% change\": 30.40498643496251}, {\"customer_state\": \"RO\", \"KPI\": \"Total revenue ('000)\", \"2017\": 30.161139999999985, \"2018\": 25.989599999999992, \"change\": -4.171539999999993, \"% change\": -13.83084326388192}, {\"customer_state\": \"RN\", \"KPI\": \"Total revenue ('000)\", \"2017\": 43.14932, \"2018\": 55.92187999999997, \"change\": 12.77255999999997, \"% change\": 29.600837278548003}, {\"customer_state\": \"RR\", \"KPI\": \"Total revenue ('000)\", \"2017\": 2.00658, \"2018\": 6.662100000000001, \"change\": 4.655520000000001, \"% change\": 232.01267828843112}, {\"customer_state\": \"RS\", \"KPI\": \"Total revenue ('000)\", \"2017\": 406.8676200000018, \"2018\": 440.5136699999997, \"change\": 33.6460499999979, \"% change\": 8.269532483316748}, {\"customer_state\": \"MA\", \"KPI\": \"Total revenue ('000)\", \"2017\": 71.75550000000007, \"2018\": 73.34144, \"change\": 1.5859399999999368, \"% change\": 2.210199914989005}, {\"customer_state\": \"PI\", \"KPI\": \"Total revenue ('000)\", \"2017\": 43.21739999999997, \"2018\": 60.875509999999956, \"change\": 17.658109999999986, \"% change\": 40.85879761392402}, {\"customer_state\": \"PB\", \"KPI\": \"Total revenue ('000)\", \"2017\": 57.774110000000015, \"2018\": 76.91972, \"change\": 19.145609999999984, \"% change\": 33.138736364783426}, {\"customer_state\": \"MT\", \"KPI\": \"Total revenue ('000)\", \"2017\": 88.31748999999995, \"2018\": 91.55444, \"change\": 3.23695000000005, \"% change\": 3.6651290701310146}, {\"customer_state\": \"AP\", \"KPI\": \"Total revenue ('000)\", \"2017\": 7.210539999999998, \"2018\": 8.93127, \"change\": 1.7207300000000014, \"% change\": 23.864093396611096}, {\"customer_state\": \"MG\", \"KPI\": \"Total revenue ('000)\", \"2017\": 812.9060399999969, \"2018\": 978.5621499999958, \"change\": 165.65610999999888, \"% change\": 20.37826044446656}, {\"customer_state\": \"CE\", \"KPI\": \"Total revenue ('000)\", \"2017\": 131.15981999999977, \"2018\": 129.93458000000007, \"change\": -1.225239999999701, \"% change\": -0.9341580371181534}, {\"customer_state\": \"GO\", \"KPI\": \"Total revenue ('000)\", \"2017\": 151.2571300000001, \"2018\": 172.36321000000007, \"change\": 21.106079999999963, \"% change\": 13.953775269965751}, {\"customer_state\": \"RJ\", \"KPI\": \"Total revenue ('000)\", \"2017\": 993.9497499999954, \"2018\": 1025.608629999993, \"change\": 31.658879999997453, \"% change\": 3.185159008289664}, {\"customer_state\": \"AL\", \"KPI\": \"Total revenue ('000)\", \"2017\": 50.52747999999998, \"2018\": 42.87797, \"change\": -7.649509999999985, \"% change\": -15.139306373482286}, {\"customer_state\": \"PA\", \"KPI\": \"Total revenue ('000)\", \"2017\": 98.5079400000001, \"2018\": 101.89404, \"change\": 3.3860999999998995, \"% change\": 3.437387889747665}, {\"customer_state\": \"AM\", \"KPI\": \"Total revenue ('000)\", \"2017\": 12.195269999999999, \"2018\": 14.751539999999999, \"change\": 2.5562699999999996, \"% change\": 20.961159531523286}, {\"customer_state\": \"TO\", \"KPI\": \"Total revenue ('000)\", \"2017\": 27.63025999999999, \"2018\": 31.851859999999974, \"change\": 4.2215999999999845, \"% change\": 15.278900741433436}, {\"customer_state\": \"SE\", \"KPI\": \"Total revenue ('000)\", \"2017\": 37.206950000000006, \"2018\": 32.51322, \"change\": -4.693730000000009, \"% change\": -12.615196891978538}, {\"customer_state\": \"AC\", \"KPI\": \"Total revenue ('000)\", \"2017\": 12.76489, \"2018\": 6.6831000000000005, \"change\": -6.081789999999999, \"% change\": -47.64467222200896}, {\"customer_state\": \"SP\", \"KPI\": \"Total products sold ('000)\", \"2017\": 19.145, \"2018\": 26.559, \"change\": 7.4140000000000015, \"% change\": 38.725515800470106}, {\"customer_state\": \"PR\", \"KPI\": \"Total products sold ('000)\", \"2017\": 2.474, \"2018\": 3.068, \"change\": 0.5939999999999999, \"% change\": 24.009700889248172}, {\"customer_state\": \"DF\", \"KPI\": \"Total products sold ('000)\", \"2017\": 1.0, \"2018\": 1.315, \"change\": 0.31499999999999995, \"% change\": 31.499999999999993}, {\"customer_state\": \"PE\", \"KPI\": \"Total products sold ('000)\", \"2017\": 0.809, \"2018\": 0.907, \"change\": 0.09799999999999998, \"% change\": 12.113720642768847}, {\"customer_state\": \"SC\", \"KPI\": \"Total products sold ('000)\", \"2017\": 1.851, \"2018\": 2.173, \"change\": 0.32200000000000006, \"% change\": 17.396002160994062}, {\"customer_state\": \"BA\", \"KPI\": \"Total products sold ('000)\", \"2017\": 1.715, \"2018\": 1.906, \"change\": 0.19099999999999984, \"% change\": 11.137026239067046}, {\"customer_state\": \"MS\", \"KPI\": \"Total products sold ('000)\", \"2017\": 0.329, \"2018\": 0.473, \"change\": 0.14399999999999996, \"% change\": 43.768996960486305}, {\"customer_state\": \"ES\", \"KPI\": \"Total products sold ('000)\", \"2017\": 1.045, \"2018\": 1.159, \"change\": 0.1140000000000001, \"% change\": 10.909090909090919}, {\"customer_state\": \"RO\", \"KPI\": \"Total products sold ('000)\", \"2017\": 0.152, \"2018\": 0.115, \"change\": -0.03699999999999999, \"% change\": -24.34210526315789}, {\"customer_state\": \"RN\", \"KPI\": \"Total products sold ('000)\", \"2017\": 0.253, \"2018\": 0.257, \"change\": 0.0040000000000000036, \"% change\": 1.581027667984191}, {\"customer_state\": \"RR\", \"KPI\": \"Total products sold ('000)\", \"2017\": 0.019, \"2018\": 0.024, \"change\": 0.005000000000000001, \"% change\": 26.315789473684216}, {\"customer_state\": \"RS\", \"KPI\": \"Total products sold ('000)\", \"2017\": 2.903, \"2018\": 3.118, \"change\": 0.21499999999999986, \"% change\": 7.406131588012396}, {\"customer_state\": \"MA\", \"KPI\": \"Total products sold ('000)\", \"2017\": 0.398, \"2018\": 0.384, \"change\": -0.014000000000000012, \"% change\": -3.5175879396984953}, {\"customer_state\": \"PI\", \"KPI\": \"Total products sold ('000)\", \"2017\": 0.234, \"2018\": 0.281, \"change\": 0.047000000000000014, \"% change\": 20.08547008547009}, {\"customer_state\": \"PB\", \"KPI\": \"Total products sold ('000)\", \"2017\": 0.273, \"2018\": 0.303, \"change\": 0.02999999999999997, \"% change\": 10.989010989010978}, {\"customer_state\": \"MT\", \"KPI\": \"Total products sold ('000)\", \"2017\": 0.474, \"2018\": 0.549, \"change\": 0.07500000000000007, \"% change\": 15.822784810126597}, {\"customer_state\": \"AP\", \"KPI\": \"Total products sold ('000)\", \"2017\": 0.038, \"2018\": 0.043, \"change\": 0.0049999999999999975, \"% change\": 13.157894736842099}, {\"customer_state\": \"MG\", \"KPI\": \"Total products sold ('000)\", \"2017\": 5.901, \"2018\": 6.794, \"change\": 0.8929999999999998, \"% change\": 15.133028300288084}, {\"customer_state\": \"CE\", \"KPI\": \"Total products sold ('000)\", \"2017\": 0.699, \"2018\": 0.705, \"change\": 0.006000000000000005, \"% change\": 0.8583690987124473}, {\"customer_state\": \"GO\", \"KPI\": \"Total products sold ('000)\", \"2017\": 1.052, \"2018\": 1.166, \"change\": 0.11399999999999988, \"% change\": 10.836501901140673}, {\"customer_state\": \"RJ\", \"KPI\": \"Total products sold ('000)\", \"2017\": 6.684, \"2018\": 7.199, \"change\": 0.5149999999999997, \"% change\": 7.704967085577493}, {\"customer_state\": \"AL\", \"KPI\": \"Total products sold ('000)\", \"2017\": 0.214, \"2018\": 0.208, \"change\": -0.006000000000000005, \"% change\": -2.803738317757012}, {\"customer_state\": \"PA\", \"KPI\": \"Total products sold ('000)\", \"2017\": 0.53, \"2018\": 0.499, \"change\": -0.031000000000000028, \"% change\": -5.84905660377359}, {\"customer_state\": \"AM\", \"KPI\": \"Total products sold ('000)\", \"2017\": 0.076, \"2018\": 0.085, \"change\": 0.009000000000000008, \"% change\": 11.842105263157904}, {\"customer_state\": \"TO\", \"KPI\": \"Total products sold ('000)\", \"2017\": 0.143, \"2018\": 0.163, \"change\": 0.020000000000000018, \"% change\": 13.986013986014001}, {\"customer_state\": \"SE\", \"KPI\": \"Total products sold ('000)\", \"2017\": 0.209, \"2018\": 0.161, \"change\": -0.04799999999999999, \"% change\": -22.96650717703349}, {\"customer_state\": \"AC\", \"KPI\": \"Total products sold ('000)\", \"2017\": 0.057, \"2018\": 0.032, \"change\": -0.025, \"% change\": -43.85964912280702}, {\"customer_state\": \"SP\", \"KPI\": \"Average price\", \"2017\": 124.66474745364484, \"2018\": 124.13000527128226, \"change\": -0.534742182362578, \"% change\": -0.42894418292662545}, {\"customer_state\": \"PR\", \"KPI\": \"Average price\", \"2017\": 133.9151899757482, \"2018\": 142.8532790091264, \"change\": 8.93808903337819, \"% change\": 6.674440020580834}, {\"customer_state\": \"DF\", \"KPI\": \"Average price\", \"2017\": 149.98424999999978, \"2018\": 145.87103422053235, \"change\": -4.113215779467424, \"% change\": -2.7424318083181602}, {\"customer_state\": \"PE\", \"KPI\": \"Average price\", \"2017\": 171.78894932014805, \"2018\": 180.26013230429976, \"change\": 8.47118298415171, \"% change\": 4.931157107413648}, {\"customer_state\": \"SC\", \"KPI\": \"Average price\", \"2017\": 139.26889249054594, \"2018\": 150.39245283018877, \"change\": 11.123560339642836, \"% change\": 7.987110503085204}, {\"customer_state\": \"BA\", \"KPI\": \"Average price\", \"2017\": 155.14053061224521, \"2018\": 166.4245383001047, \"change\": 11.284007687859486, \"% change\": 7.273410528717658}, {\"customer_state\": \"MS\", \"KPI\": \"Average price\", \"2017\": 180.9698176291794, \"2018\": 156.55913319238897, \"change\": -24.410684436790433, \"% change\": -13.488815293393145}, {\"customer_state\": \"ES\", \"KPI\": \"Average price\", \"2017\": 130.7294066985647, \"2018\": 153.70937014667808, \"change\": 22.97996344811338, \"% change\": 17.57826645775306}, {\"customer_state\": \"RO\", \"KPI\": \"Average price\", \"2017\": 198.42855263157887, \"2018\": 225.99652173913034, \"change\": 27.567969107551477, \"% change\": 13.89314629469518}, {\"customer_state\": \"RN\", \"KPI\": \"Average price\", \"2017\": 170.5506719367589, \"2018\": 217.59486381322947, \"change\": 47.04419187647056, \"% change\": 27.58370362440718}, {\"customer_state\": \"RR\", \"KPI\": \"Average price\", \"2017\": 105.60947368421053, \"2018\": 277.58750000000003, \"change\": 171.97802631578952, \"% change\": 162.84337031167465}, {\"customer_state\": \"RS\", \"KPI\": \"Average price\", \"2017\": 140.15419221495068, \"2018\": 141.2808434894162, \"change\": 1.1266512744655302, \"% change\": 0.8038655545441092}, {\"customer_state\": \"MA\", \"KPI\": \"Average price\", \"2017\": 180.2902010050253, \"2018\": 190.99333333333334, \"change\": 10.703132328308044, \"% change\": 5.936613453556309}, {\"customer_state\": \"PI\", \"KPI\": \"Average price\", \"2017\": 184.68974358974344, \"2018\": 216.6388256227756, \"change\": 31.94908203303217, \"% change\": 17.298785201630672}, {\"customer_state\": \"PB\", \"KPI\": \"Average price\", \"2017\": 211.6267765567766, \"2018\": 253.86046204620462, \"change\": 42.23368548942801, \"% change\": 19.95668325935933}, {\"customer_state\": \"MT\", \"KPI\": \"Average price\", \"2017\": 186.32381856540076, \"2018\": 166.76582877959925, \"change\": -19.55798978580151, \"% change\": -10.496773808302207}, {\"customer_state\": \"AP\", \"KPI\": \"Average price\", \"2017\": 189.75105263157891, \"2018\": 207.7039534883721, \"change\": 17.95290085679318, \"% change\": 9.461291838865618}, {\"customer_state\": \"MG\", \"KPI\": \"Average price\", \"2017\": 137.75733604473766, \"2018\": 144.033286723579, \"change\": 6.275950678841355, \"% change\": 4.55580142519829}, {\"customer_state\": \"CE\", \"KPI\": \"Average price\", \"2017\": 187.63922746781083, \"2018\": 184.30436879432634, \"change\": -3.33485867348449, \"% change\": -1.7772715857384243}, {\"customer_state\": \"GO\", \"KPI\": \"Average price\", \"2017\": 143.78054182509516, \"2018\": 147.82436535162958, \"change\": 4.043823526534425, \"% change\": 2.8124970703293206}, {\"customer_state\": \"RJ\", \"KPI\": \"Average price\", \"2017\": 148.7058273488922, \"2018\": 142.46542992082135, \"change\": -6.24039742807085, \"% change\": -4.196471341657438}, {\"customer_state\": \"AL\", \"KPI\": \"Average price\", \"2017\": 236.10971962616816, \"2018\": 206.14408653846155, \"change\": -29.965633087706607, \"% change\": -12.691401749640423}, {\"customer_state\": \"PA\", \"KPI\": \"Average price\", \"2017\": 185.86403773584925, \"2018\": 204.1964729458918, \"change\": 18.332435210042547, \"% change\": 9.86335787889031}, {\"customer_state\": \"AM\", \"KPI\": \"Average price\", \"2017\": 160.46407894736842, \"2018\": 173.54752941176469, \"change\": 13.083450464396265, \"% change\": 8.153507345832574}, {\"customer_state\": \"TO\", \"KPI\": \"Average price\", \"2017\": 193.21860139860135, \"2018\": 195.4101840490796, \"change\": 2.1915826504782387, \"% change\": 1.1342503437115257}, {\"customer_state\": \"SE\", \"KPI\": \"Average price\", \"2017\": 178.02368421052634, \"2018\": 201.94546583850928, \"change\": 23.921781627982938, \"% change\": 13.437415214760772}, {\"customer_state\": \"AC\", \"KPI\": \"Average price\", \"2017\": 223.94543859649121, \"2018\": 208.846875, \"change\": -15.098563596491203, \"% change\": -6.742072395453456}]}}, {\"mode\": \"vega-lite\"});\n",
       "</script>"
      ],
      "text/plain": [
       "alt.Chart(...)"
      ]
     },
     "execution_count": 6,
     "metadata": {},
     "output_type": "execute_result"
    }
   ],
   "source": [
    "alt.Chart(totals_by_state).mark_bar().encode(\n",
    "    alt.X(\"customer_state\", axis=alt.Axis(labelAngle=0)),\n",
    "    y=\"change\",\n",
    "    row=\"KPI\",\n",
    "    tooltip=alt.Tooltip(\"change\"),\n",
    "    color=alt.condition(\n",
    "        alt.datum[\"change\"] < 0, alt.ColorValue(\"red\"), alt.ColorValue(\"green\")\n",
    "    ),\n",
    ").properties(width=550, height=100).resolve_scale(y=\"independent\")"
   ]
  },
  {
   "cell_type": "markdown",
   "metadata": {},
   "source": [
    "Here's where PVM decomposition comes in. The nice property of PVM analysis is that it's additive. We can do the calculations on a state level, aggregate them, and still arrive at total revenue change. Let's do that."
   ]
  },
  {
   "cell_type": "code",
   "execution_count": 7,
   "metadata": {},
   "outputs": [
    {
     "name": "stdout",
     "output_type": "stream",
     "text": [
      "+----------------+--------------+---------------+--------------+\n",
      "| customer_state | price_effect | volume_effect | total_effect |\n",
      "+----------------+--------------+---------------+--------------+\n",
      "|       AC       |     -0.5     |     -5.6      |     -6.1     |\n",
      "|       AL       |     -6.2     |     -1.4      |     -7.6     |\n",
      "|       AM       |     1.1      |      1.4      |     2.6      |\n",
      "|       AP       |     0.8      |      0.9      |     1.7      |\n",
      "|       BA       |     21.5     |     29.6      |     51.1     |\n",
      "|       CE       |     -2.4     |      1.1      |     -1.2     |\n",
      "|       DF       |     -5.4     |     47.2      |     41.8     |\n",
      "|       ES       |     26.6     |     14.9      |     41.5     |\n",
      "|       GO       |     4.7      |     16.4      |     21.1     |\n",
      "|       MA       |     4.1      |     -2.5      |     1.6      |\n",
      "|       MG       |     42.6     |     123.0     |    165.7     |\n",
      "|       MS       |    -11.5     |     26.1      |     14.5     |\n",
      "|       MT       |    -10.7     |     14.0      |     3.2      |\n",
      "|       PA       |     9.1      |     -5.8      |     3.4      |\n",
      "|       PB       |     12.8     |      6.3      |     19.1     |\n",
      "|       PE       |     7.7      |     16.8      |     24.5     |\n",
      "|       PI       |     9.0      |      8.7      |     17.7     |\n",
      "|       PR       |     27.4     |     79.5      |    107.0     |\n",
      "|       RJ       |    -44.9     |     76.6      |     31.7     |\n",
      "|       RN       |     12.1     |      0.7      |     12.8     |\n",
      "|       RO       |     3.2      |     -7.3      |     -4.2     |\n",
      "|       RR       |     4.1      |      0.5      |     4.7      |\n",
      "|       RS       |     3.5      |     30.1      |     33.6     |\n",
      "|       SC       |     24.2     |     44.8      |     69.0     |\n",
      "|       SE       |     3.9      |     -8.5      |     -4.7     |\n",
      "|       SP       |    -14.2     |     924.3     |    910.1     |\n",
      "|       TO       |     0.4      |      3.9      |     4.2      |\n",
      "+----------------+--------------+---------------+--------------+\n",
      "+----------------+--------------+---------------+--------------+\n",
      "| customer_state | price_effect | volume_effect | total_effect |\n",
      "+----------------+--------------+---------------+--------------+\n",
      "|                |    122.9     |    1435.9     |    1558.8    |\n",
      "+----------------+--------------+---------------+--------------+\n"
     ]
    }
   ],
   "source": [
    "# produce a dataset by year & state\n",
    "kpis_by_year_and_state = (\n",
    "    sales_data.group_by([\"year\", \"customer_state\"])\n",
    "    .agg(\n",
    "        pl.sum(\"revenue\").alias(\"Total revenue ('000)\") / 1000,\n",
    "        pl.sum(\"quantity\").alias(\"Total products sold ('000)\") / 1000,\n",
    "    )\n",
    "    .with_columns(\n",
    "        (pl.col(\"Total revenue ('000)\") / pl.col(\"Total products sold ('000)\")).alias(\n",
    "            \"Average price\"\n",
    "        ),\n",
    "        (pl.col(\"year\") + 1).alias(\"next_year\"),\n",
    "    )\n",
    ")\n",
    "\n",
    "# join 2017 data with 2018 data, so we have both years side-to-side\n",
    "joined = kpis_by_year_and_state.filter(pl.col(\"year\") == 2017).join(\n",
    "    kpis_by_year_and_state.filter(pl.col(\"year\") == 2018),\n",
    "    left_on=[\"customer_state\", \"next_year\"],\n",
    "    right_on=[\"customer_state\", \"year\"],\n",
    "    suffix=\"_next\",\n",
    "    how=\"outer\",\n",
    ")\n",
    "\n",
    "# apply formulas\n",
    "effects = (\n",
    "    joined.with_columns(\n",
    "        (\n",
    "            (pl.col(\"Average price_next\") - pl.col(\"Average price\"))\n",
    "            * pl.col(\"Total products sold ('000)_next\")\n",
    "        ).alias(\"price_effect\"),\n",
    "        (\n",
    "            (\n",
    "                pl.col(\"Total products sold ('000)_next\")\n",
    "                - pl.col(\"Total products sold ('000)\")\n",
    "            )\n",
    "            * pl.col(\"Average price\")\n",
    "        ).alias(\"volume_effect\"),\n",
    "    )\n",
    "    .select([\"customer_state\", \"price_effect\", \"volume_effect\"])\n",
    "    .sort(\"customer_state\")\n",
    "    .with_columns(\n",
    "        (pl.col(\"price_effect\") + pl.col(\"volume_effect\")).alias(\"total_effect\")\n",
    "    )\n",
    ")\n",
    "\n",
    "\n",
    "print_table(effects)\n",
    "\n",
    "print_table(effects.sum())"
   ]
  },
  {
   "cell_type": "markdown",
   "metadata": {},
   "source": [
    "Everything adds up - the total effect is still `1558.8k`, equal to the total revenue change. The split, however, has changed - our previous analysis had price effect at `25k` and volume effect at `1.533M`, but now we got `123k` and `1436k`. Which one is right? \n",
    "\n",
    "The answer is the **M** part of PV**M**. By calculating effects on a state level, our price effect is no longer affected by changing volume mix of the states. Given that now we got a larger price effect (`123k` vs. `25k` previously), it implies that the mix effect itself must be negative (`-98k`). In other words, the volume in low-priced states must have gone up more than in high-priced states. Let's see if we can confirm that visually. \n"
   ]
  },
  {
   "cell_type": "code",
   "execution_count": 8,
   "metadata": {},
   "outputs": [
    {
     "data": {
      "text/html": [
       "\n",
       "<style>\n",
       "  #altair-viz-538c12d5b08848dbaacad18660d8f45e.vega-embed {\n",
       "    width: 100%;\n",
       "    display: flex;\n",
       "  }\n",
       "\n",
       "  #altair-viz-538c12d5b08848dbaacad18660d8f45e.vega-embed details,\n",
       "  #altair-viz-538c12d5b08848dbaacad18660d8f45e.vega-embed details summary {\n",
       "    position: relative;\n",
       "  }\n",
       "</style>\n",
       "<div id=\"altair-viz-538c12d5b08848dbaacad18660d8f45e\"></div>\n",
       "<script type=\"text/javascript\">\n",
       "  var VEGA_DEBUG = (typeof VEGA_DEBUG == \"undefined\") ? {} : VEGA_DEBUG;\n",
       "  (function(spec, embedOpt){\n",
       "    let outputDiv = document.currentScript.previousElementSibling;\n",
       "    if (outputDiv.id !== \"altair-viz-538c12d5b08848dbaacad18660d8f45e\") {\n",
       "      outputDiv = document.getElementById(\"altair-viz-538c12d5b08848dbaacad18660d8f45e\");\n",
       "    }\n",
       "    const paths = {\n",
       "      \"vega\": \"https://cdn.jsdelivr.net/npm/vega@5?noext\",\n",
       "      \"vega-lib\": \"https://cdn.jsdelivr.net/npm/vega-lib?noext\",\n",
       "      \"vega-lite\": \"https://cdn.jsdelivr.net/npm/vega-lite@5.14.1?noext\",\n",
       "      \"vega-embed\": \"https://cdn.jsdelivr.net/npm/vega-embed@6?noext\",\n",
       "    };\n",
       "\n",
       "    function maybeLoadScript(lib, version) {\n",
       "      var key = `${lib.replace(\"-\", \"\")}_version`;\n",
       "      return (VEGA_DEBUG[key] == version) ?\n",
       "        Promise.resolve(paths[lib]) :\n",
       "        new Promise(function(resolve, reject) {\n",
       "          var s = document.createElement('script');\n",
       "          document.getElementsByTagName(\"head\")[0].appendChild(s);\n",
       "          s.async = true;\n",
       "          s.onload = () => {\n",
       "            VEGA_DEBUG[key] = version;\n",
       "            return resolve(paths[lib]);\n",
       "          };\n",
       "          s.onerror = () => reject(`Error loading script: ${paths[lib]}`);\n",
       "          s.src = paths[lib];\n",
       "        });\n",
       "    }\n",
       "\n",
       "    function showError(err) {\n",
       "      outputDiv.innerHTML = `<div class=\"error\" style=\"color:red;\">${err}</div>`;\n",
       "      throw err;\n",
       "    }\n",
       "\n",
       "    function displayChart(vegaEmbed) {\n",
       "      vegaEmbed(outputDiv, spec, embedOpt)\n",
       "        .catch(err => showError(`Javascript Error: ${err.message}<br>This usually means there's a typo in your chart specification. See the javascript console for the full traceback.`));\n",
       "    }\n",
       "\n",
       "    if(typeof define === \"function\" && define.amd) {\n",
       "      requirejs.config({paths});\n",
       "      require([\"vega-embed\"], displayChart, err => showError(`Error loading script: ${err.message}`));\n",
       "    } else {\n",
       "      maybeLoadScript(\"vega\", \"5\")\n",
       "        .then(() => maybeLoadScript(\"vega-lite\", \"5.14.1\"))\n",
       "        .then(() => maybeLoadScript(\"vega-embed\", \"6\"))\n",
       "        .catch(showError)\n",
       "        .then(() => displayChart(vegaEmbed));\n",
       "    }\n",
       "  })({\"config\": {\"view\": {\"continuousWidth\": 300, \"continuousHeight\": 300}}, \"layer\": [{\"mark\": {\"type\": \"point\"}, \"encoding\": {\"color\": {\"field\": \"customer_state\", \"legend\": null, \"type\": \"nominal\"}, \"size\": {\"field\": \"Volume 2017\", \"legend\": null, \"type\": \"quantitative\"}, \"text\": {\"field\": \"customer_state\", \"type\": \"nominal\"}, \"tooltip\": {\"field\": \"customer_state\", \"type\": \"nominal\"}, \"x\": {\"field\": \"2017 price\", \"type\": \"quantitative\"}, \"y\": {\"field\": \"volume_change, %\", \"type\": \"quantitative\"}}}, {\"mark\": {\"type\": \"text\", \"size\": 8}, \"encoding\": {\"color\": {\"field\": \"customer_state\", \"legend\": null, \"type\": \"nominal\"}, \"text\": {\"field\": \"customer_state\", \"type\": \"nominal\"}, \"tooltip\": {\"field\": \"customer_state\", \"type\": \"nominal\"}, \"x\": {\"field\": \"2017 price\", \"type\": \"quantitative\"}, \"y\": {\"field\": \"volume_change, %\", \"type\": \"quantitative\"}}}], \"data\": {\"name\": \"data-769fa6673527f0d0f62a9d5a83c6aa9e\"}, \"$schema\": \"https://vega.github.io/schema/vega-lite/v5.14.1.json\", \"datasets\": {\"data-769fa6673527f0d0f62a9d5a83c6aa9e\": [{\"customer_state\": \"SP\", \"volume_change, %\": 38.725515800470106, \"Volume 2017\": 19.145, \"2017 price\": 124.66474745364484}, {\"customer_state\": \"PR\", \"volume_change, %\": 24.009700889248172, \"Volume 2017\": 2.474, \"2017 price\": 133.9151899757482}, {\"customer_state\": \"DF\", \"volume_change, %\": 31.499999999999993, \"Volume 2017\": 1.0, \"2017 price\": 149.98424999999978}, {\"customer_state\": \"PE\", \"volume_change, %\": 12.113720642768847, \"Volume 2017\": 0.809, \"2017 price\": 171.78894932014805}, {\"customer_state\": \"SC\", \"volume_change, %\": 17.396002160994062, \"Volume 2017\": 1.851, \"2017 price\": 139.26889249054594}, {\"customer_state\": \"BA\", \"volume_change, %\": 11.137026239067046, \"Volume 2017\": 1.715, \"2017 price\": 155.14053061224521}, {\"customer_state\": \"MS\", \"volume_change, %\": 43.768996960486305, \"Volume 2017\": 0.329, \"2017 price\": 180.9698176291794}, {\"customer_state\": \"ES\", \"volume_change, %\": 10.909090909090919, \"Volume 2017\": 1.045, \"2017 price\": 130.7294066985647}, {\"customer_state\": \"RO\", \"volume_change, %\": -24.34210526315789, \"Volume 2017\": 0.152, \"2017 price\": 198.42855263157887}, {\"customer_state\": \"RN\", \"volume_change, %\": 1.581027667984191, \"Volume 2017\": 0.253, \"2017 price\": 170.5506719367589}, {\"customer_state\": \"RR\", \"volume_change, %\": 26.315789473684216, \"Volume 2017\": 0.019, \"2017 price\": 105.60947368421053}, {\"customer_state\": \"RS\", \"volume_change, %\": 7.406131588012396, \"Volume 2017\": 2.903, \"2017 price\": 140.15419221495068}, {\"customer_state\": \"MA\", \"volume_change, %\": -3.5175879396984953, \"Volume 2017\": 0.398, \"2017 price\": 180.2902010050253}, {\"customer_state\": \"PI\", \"volume_change, %\": 20.08547008547009, \"Volume 2017\": 0.234, \"2017 price\": 184.68974358974344}, {\"customer_state\": \"PB\", \"volume_change, %\": 10.989010989010978, \"Volume 2017\": 0.273, \"2017 price\": 211.6267765567766}, {\"customer_state\": \"MT\", \"volume_change, %\": 15.822784810126597, \"Volume 2017\": 0.474, \"2017 price\": 186.32381856540076}, {\"customer_state\": \"AP\", \"volume_change, %\": 13.157894736842099, \"Volume 2017\": 0.038, \"2017 price\": 189.75105263157891}, {\"customer_state\": \"MG\", \"volume_change, %\": 15.133028300288084, \"Volume 2017\": 5.901, \"2017 price\": 137.75733604473766}, {\"customer_state\": \"CE\", \"volume_change, %\": 0.8583690987124473, \"Volume 2017\": 0.699, \"2017 price\": 187.63922746781083}, {\"customer_state\": \"GO\", \"volume_change, %\": 10.836501901140673, \"Volume 2017\": 1.052, \"2017 price\": 143.78054182509516}, {\"customer_state\": \"RJ\", \"volume_change, %\": 7.704967085577493, \"Volume 2017\": 6.684, \"2017 price\": 148.7058273488922}, {\"customer_state\": \"AL\", \"volume_change, %\": -2.803738317757012, \"Volume 2017\": 0.214, \"2017 price\": 236.10971962616816}, {\"customer_state\": \"PA\", \"volume_change, %\": -5.84905660377359, \"Volume 2017\": 0.53, \"2017 price\": 185.86403773584925}, {\"customer_state\": \"AM\", \"volume_change, %\": 11.842105263157904, \"Volume 2017\": 0.076, \"2017 price\": 160.46407894736842}, {\"customer_state\": \"TO\", \"volume_change, %\": 13.986013986014001, \"Volume 2017\": 0.143, \"2017 price\": 193.21860139860135}, {\"customer_state\": \"SE\", \"volume_change, %\": -22.96650717703349, \"Volume 2017\": 0.209, \"2017 price\": 178.02368421052634}, {\"customer_state\": \"AC\", \"volume_change, %\": -43.85964912280702, \"Volume 2017\": 0.057, \"2017 price\": 223.94543859649121}]}}, {\"mode\": \"vega-lite\"});\n",
       "</script>"
      ],
      "text/plain": [
       "alt.LayerChart(...)"
      ]
     },
     "execution_count": 8,
     "metadata": {},
     "output_type": "execute_result"
    }
   ],
   "source": [
    "reference_price_and_volume = (\n",
    "    totals_by_state.filter(pl.col(\"KPI\") == \"Total products sold ('000)\")\n",
    "    .select(\n",
    "        pl.col(\"customer_state\"),\n",
    "        pl.col(\"% change\").alias(\"volume_change, %\"),\n",
    "        pl.col(\"2017\").alias(\"Volume 2017\"),\n",
    "    )\n",
    "    .join(\n",
    "        totals_by_state.filter(pl.col(\"KPI\") == \"Average price\").select(\n",
    "            pl.col(\"customer_state\"), pl.col(\"2017\").alias(\"2017 price\")\n",
    "        ),\n",
    "        on=\"customer_state\",\n",
    "    )\n",
    ")\n",
    "c = alt.Chart(reference_price_and_volume).encode(\n",
    "    alt.X(\"2017 price\"),\n",
    "    alt.Y(\"volume_change, %\"),\n",
    "    alt.Color(\"customer_state\", legend=None),\n",
    "    alt.Tooltip(\"customer_state\"),\n",
    "    alt.Text(\"customer_state\"),\n",
    ")\n",
    "\n",
    "c.mark_point().encode(\n",
    "    alt.Size(\"Volume 2017\", legend=None),\n",
    ") + c.mark_text(size=8)"
   ]
  },
  {
   "cell_type": "markdown",
   "metadata": {},
   "source": [
    "From the above chart, it's pretty clear that it's what happened. Sao Paolo, in particular, is a low-priced state that had highest volume growth. More broadly, you can see a near perfectly linear relationship between change in volume and average price in the state - something the executive team could ponder about.\n",
    "\n",
    "With all this data, now we can put together an even better chart that summarizes what is going on in the business. This part is more art than science - it's all about the storytelling. Here's one way we could do it."
   ]
  },
  {
   "cell_type": "code",
   "execution_count": 9,
   "metadata": {},
   "outputs": [],
   "source": [
    "top5_volume_effects = effects.sort(\n",
    "    pl.col(\"volume_effect\").abs(), descending=True\n",
    ").to_dicts()[:5]\n",
    "top5_price_effects = effects.sort(\n",
    "    pl.col(\"price_effect\").abs(), descending=True\n",
    ").to_dicts()[:5]"
   ]
  },
  {
   "cell_type": "code",
   "execution_count": 10,
   "metadata": {},
   "outputs": [
    {
     "data": {
      "text/html": [
       "\n",
       "<style>\n",
       "  #altair-viz-6c0bfac3c5f04954972f3aec72ee9da7.vega-embed {\n",
       "    width: 100%;\n",
       "    display: flex;\n",
       "  }\n",
       "\n",
       "  #altair-viz-6c0bfac3c5f04954972f3aec72ee9da7.vega-embed details,\n",
       "  #altair-viz-6c0bfac3c5f04954972f3aec72ee9da7.vega-embed details summary {\n",
       "    position: relative;\n",
       "  }\n",
       "</style>\n",
       "<div id=\"altair-viz-6c0bfac3c5f04954972f3aec72ee9da7\"></div>\n",
       "<script type=\"text/javascript\">\n",
       "  var VEGA_DEBUG = (typeof VEGA_DEBUG == \"undefined\") ? {} : VEGA_DEBUG;\n",
       "  (function(spec, embedOpt){\n",
       "    let outputDiv = document.currentScript.previousElementSibling;\n",
       "    if (outputDiv.id !== \"altair-viz-6c0bfac3c5f04954972f3aec72ee9da7\") {\n",
       "      outputDiv = document.getElementById(\"altair-viz-6c0bfac3c5f04954972f3aec72ee9da7\");\n",
       "    }\n",
       "    const paths = {\n",
       "      \"vega\": \"https://cdn.jsdelivr.net/npm/vega@5?noext\",\n",
       "      \"vega-lib\": \"https://cdn.jsdelivr.net/npm/vega-lib?noext\",\n",
       "      \"vega-lite\": \"https://cdn.jsdelivr.net/npm/vega-lite@5.14.1?noext\",\n",
       "      \"vega-embed\": \"https://cdn.jsdelivr.net/npm/vega-embed@6?noext\",\n",
       "    };\n",
       "\n",
       "    function maybeLoadScript(lib, version) {\n",
       "      var key = `${lib.replace(\"-\", \"\")}_version`;\n",
       "      return (VEGA_DEBUG[key] == version) ?\n",
       "        Promise.resolve(paths[lib]) :\n",
       "        new Promise(function(resolve, reject) {\n",
       "          var s = document.createElement('script');\n",
       "          document.getElementsByTagName(\"head\")[0].appendChild(s);\n",
       "          s.async = true;\n",
       "          s.onload = () => {\n",
       "            VEGA_DEBUG[key] = version;\n",
       "            return resolve(paths[lib]);\n",
       "          };\n",
       "          s.onerror = () => reject(`Error loading script: ${paths[lib]}`);\n",
       "          s.src = paths[lib];\n",
       "        });\n",
       "    }\n",
       "\n",
       "    function showError(err) {\n",
       "      outputDiv.innerHTML = `<div class=\"error\" style=\"color:red;\">${err}</div>`;\n",
       "      throw err;\n",
       "    }\n",
       "\n",
       "    function displayChart(vegaEmbed) {\n",
       "      vegaEmbed(outputDiv, spec, embedOpt)\n",
       "        .catch(err => showError(`Javascript Error: ${err.message}<br>This usually means there's a typo in your chart specification. See the javascript console for the full traceback.`));\n",
       "    }\n",
       "\n",
       "    if(typeof define === \"function\" && define.amd) {\n",
       "      requirejs.config({paths});\n",
       "      require([\"vega-embed\"], displayChart, err => showError(`Error loading script: ${err.message}`));\n",
       "    } else {\n",
       "      maybeLoadScript(\"vega\", \"5\")\n",
       "        .then(() => maybeLoadScript(\"vega-lite\", \"5.14.1\"))\n",
       "        .then(() => maybeLoadScript(\"vega-embed\", \"6\"))\n",
       "        .catch(showError)\n",
       "        .then(() => displayChart(vegaEmbed));\n",
       "    }\n",
       "  })({\"config\": {\"view\": {\"continuousWidth\": 300, \"continuousHeight\": 300}}, \"layer\": [{\"mark\": {\"type\": \"bar\"}, \"encoding\": {\"color\": {\"field\": \"color\", \"scale\": null, \"type\": \"nominal\"}, \"tooltip\": [{\"field\": \"running_total\", \"type\": \"quantitative\"}, {\"field\": \"amount\", \"type\": \"quantitative\"}, {\"field\": \"label\", \"type\": \"nominal\"}], \"x\": {\"axis\": {\"labelAngle\": -60, \"labelExpr\": \"datum.value =='1' ? '2017' : datum.value =='2' ? 'SP volume effect' : datum.value =='3' ? 'MG volume effect' : datum.value =='4' ? 'PR volume effect' : datum.value =='5' ? 'RJ volume effect' : datum.value =='6' ? 'DF volume effect' : datum.value =='7' ? 'Other states - volume' : datum.value =='8' ? 'RJ price effect' : datum.value =='9' ? 'MG price effect' : datum.value =='10' ? 'PR price effect' : datum.value =='11' ? 'ES price effect' : datum.value =='12' ? 'SC price effect' : datum.value =='13' ? 'Other states - price' : datum.value =='14' ? '2018' : ''\", \"title\": \"\"}, \"field\": \"row_number\", \"type\": \"nominal\"}, \"y\": {\"field\": \"running_total\", \"type\": \"quantitative\"}, \"y2\": {\"field\": \"prev_running_total\"}}}, {\"mark\": {\"type\": \"text\"}, \"encoding\": {\"text\": {\"field\": \"text_label\", \"type\": \"nominal\"}, \"tooltip\": [{\"field\": \"running_total\", \"type\": \"quantitative\"}, {\"field\": \"amount\", \"type\": \"quantitative\"}], \"x\": {\"axis\": {\"labelAngle\": -60, \"labelExpr\": \"datum.value =='1' ? '2017' : datum.value =='2' ? 'SP volume effect' : datum.value =='3' ? 'MG volume effect' : datum.value =='4' ? 'PR volume effect' : datum.value =='5' ? 'RJ volume effect' : datum.value =='6' ? 'DF volume effect' : datum.value =='7' ? 'Other states - volume' : datum.value =='8' ? 'RJ price effect' : datum.value =='9' ? 'MG price effect' : datum.value =='10' ? 'PR price effect' : datum.value =='11' ? 'ES price effect' : datum.value =='12' ? 'SC price effect' : datum.value =='13' ? 'Other states - price' : datum.value =='14' ? '2018' : ''\", \"title\": \"\"}, \"field\": \"row_number\", \"type\": \"nominal\"}, \"y\": {\"field\": \"text_label_position\", \"title\": \"\", \"type\": \"quantitative\"}}}, {\"mark\": {\"type\": \"text\", \"dy\": -10}, \"encoding\": {\"text\": {\"field\": \"total_text_label\", \"type\": \"nominal\"}, \"x\": {\"axis\": {\"labelAngle\": -60, \"labelExpr\": \"datum.value =='1' ? '2017' : datum.value =='2' ? 'SP volume effect' : datum.value =='3' ? 'MG volume effect' : datum.value =='4' ? 'PR volume effect' : datum.value =='5' ? 'RJ volume effect' : datum.value =='6' ? 'DF volume effect' : datum.value =='7' ? 'Other states - volume' : datum.value =='8' ? 'RJ price effect' : datum.value =='9' ? 'MG price effect' : datum.value =='10' ? 'PR price effect' : datum.value =='11' ? 'ES price effect' : datum.value =='12' ? 'SC price effect' : datum.value =='13' ? 'Other states - price' : datum.value =='14' ? '2018' : ''\", \"title\": \"\"}, \"field\": \"row_number\", \"type\": \"nominal\"}, \"y\": {\"field\": \"text_label_position\", \"title\": \"\", \"type\": \"quantitative\"}}}], \"data\": {\"name\": \"data-bfda8ab860861ca8de1448fbb02448dc\"}, \"title\": \"Olist revenue bridge 2017-2018\", \"width\": 650, \"$schema\": \"https://vega.github.io/schema/vega-lite/v5.14.1.json\", \"datasets\": {\"data-bfda8ab860861ca8de1448fbb02448dc\": [{\"label\": \"2017\", \"amount\": 6805.5, \"running_total\": 6805.5, \"prev_running_total\": 0.0, \"text_label\": \"\", \"total_text_label\": \"6805.5\", \"color\": \"orange\", \"text_label_position\": 6805.5, \"row_number\": 1}, {\"label\": \"SP volume effect\", \"amount\": 924.3, \"running_total\": 7729.8, \"prev_running_total\": 6805.5, \"text_label\": \"+924.3\", \"total_text_label\": \"\", \"color\": \"green\", \"text_label_position\": 7267.7, \"row_number\": 2}, {\"label\": \"MG volume effect\", \"amount\": 123.0, \"running_total\": 7852.8, \"prev_running_total\": 7729.8, \"text_label\": \"+123.0\", \"total_text_label\": \"\", \"color\": \"green\", \"text_label_position\": 7791.3, \"row_number\": 3}, {\"label\": \"PR volume effect\", \"amount\": 79.5, \"running_total\": 7932.4, \"prev_running_total\": 7852.8, \"text_label\": \"+79.5\", \"total_text_label\": \"\", \"color\": \"green\", \"text_label_position\": 7892.6, \"row_number\": 4}, {\"label\": \"RJ volume effect\", \"amount\": 76.6, \"running_total\": 8009.0, \"prev_running_total\": 7932.4, \"text_label\": \"+76.6\", \"total_text_label\": \"\", \"color\": \"green\", \"text_label_position\": 7970.7, \"row_number\": 5}, {\"label\": \"DF volume effect\", \"amount\": 47.2, \"running_total\": 8056.2, \"prev_running_total\": 8009.0, \"text_label\": \"+47.2\", \"total_text_label\": \"\", \"color\": \"green\", \"text_label_position\": 8032.6, \"row_number\": 6}, {\"label\": \"Other states - volume\", \"amount\": 185.2, \"running_total\": 8241.4, \"prev_running_total\": 8056.2, \"text_label\": \"+185.2\", \"total_text_label\": \"\", \"color\": \"green\", \"text_label_position\": 8148.8, \"row_number\": 7}, {\"label\": \"RJ price effect\", \"amount\": -44.9, \"running_total\": 8196.5, \"prev_running_total\": 8241.4, \"text_label\": \"-44.9\", \"total_text_label\": \"\", \"color\": \"red\", \"text_label_position\": 8263.9, \"row_number\": 8}, {\"label\": \"MG price effect\", \"amount\": 42.6, \"running_total\": 8239.1, \"prev_running_total\": 8196.5, \"text_label\": \"+42.6\", \"total_text_label\": \"\", \"color\": \"green\", \"text_label_position\": 8217.8, \"row_number\": 9}, {\"label\": \"PR price effect\", \"amount\": 27.4, \"running_total\": 8266.5, \"prev_running_total\": 8239.1, \"text_label\": \"+27.4\", \"total_text_label\": \"\", \"color\": \"green\", \"text_label_position\": 8252.8, \"row_number\": 10}, {\"label\": \"ES price effect\", \"amount\": 26.6, \"running_total\": 8293.2, \"prev_running_total\": 8266.5, \"text_label\": \"+26.6\", \"total_text_label\": \"\", \"color\": \"green\", \"text_label_position\": 8279.9, \"row_number\": 11}, {\"label\": \"SC price effect\", \"amount\": 24.2, \"running_total\": 8317.3, \"prev_running_total\": 8293.2, \"text_label\": \"+24.2\", \"total_text_label\": \"\", \"color\": \"green\", \"text_label_position\": 8305.3, \"row_number\": 12}, {\"label\": \"Other states - price\", \"amount\": 47.0, \"running_total\": 8364.3, \"prev_running_total\": 8317.3, \"text_label\": \"+47.0\", \"total_text_label\": \"\", \"color\": \"green\", \"text_label_position\": 8340.8, \"row_number\": 13}, {\"label\": \"2018\", \"amount\": 0.0, \"running_total\": 8364.3, \"prev_running_total\": 0.0, \"text_label\": \"\", \"total_text_label\": \"8364.3\", \"color\": \"orange\", \"text_label_position\": 8364.3, \"row_number\": 14}]}}, {\"mode\": \"vega-lite\"});\n",
       "</script>"
      ],
      "text/plain": [
       "alt.LayerChart(...)"
      ]
     },
     "execution_count": 10,
     "metadata": {},
     "output_type": "execute_result"
    }
   ],
   "source": [
    "state_volume_effect_total = effects[\"volume_effect\"].sum()\n",
    "state_price_effect_total = effects[\"price_effect\"].sum()\n",
    "\n",
    "chart_components = (\n",
    "    [(\"2017\", True, r2017)]\n",
    "    + [\n",
    "        (f\"{state['customer_state']} volume effect\", False, state[\"volume_effect\"])\n",
    "        for state in top5_volume_effects\n",
    "    ]\n",
    "    + [\n",
    "        (\n",
    "            \"Other states - volume\",\n",
    "            False,\n",
    "            state_volume_effect_total\n",
    "            - sum([state[\"volume_effect\"] for state in top5_volume_effects]),\n",
    "        )\n",
    "    ]\n",
    "    + [\n",
    "        (f\"{state['customer_state']} price effect\", False, state[\"price_effect\"])\n",
    "        for state in top5_price_effects\n",
    "    ]\n",
    "    + [\n",
    "        (\n",
    "            \"Other states - price\",\n",
    "            False,\n",
    "            state_price_effect_total\n",
    "            - sum([state[\"price_effect\"] for state in top5_price_effects]),\n",
    "        )\n",
    "    ]\n",
    "    + [(\"2018\", True, 0)]\n",
    ")\n",
    "\n",
    "\n",
    "pmv_charts.waterfall(chart_components, labelAngle=-60).properties(\n",
    "    width=650, title=\"Olist revenue bridge 2017-2018\"\n",
    ")"
   ]
  },
  {
   "cell_type": "markdown",
   "metadata": {},
   "source": [
    "# Explicit mix effect calculation\n",
    "\n",
    "Some PVM materials discuss formulas that calculate mix impact explictly. Again, I am not referring to the ones that call the \"joint price and volume\" effect as mix impact. That's just blatantly wrong. The explicit formulas are OK - but I am not a fan of them, you can get the same result by computing price/volume effects on different granularity levels and then comparing the results. In the old days of huge Excel spreadsheets where making multiple calculations was difficult, explicit mix formulas made sense. They make less sense when you're equipped with something like Python.\n",
    "\n",
    "Nevertheless, it's a good way to develop intuition for PVM extensions beyond just price and volume calculations. The idea is very much the same - we need to find two variables, where volume mix is one of them, and then apply similar formulas to calculate the impact. \n",
    "\n",
    "With revenue, the two components were price and volume, and we established that if we have $i$ calculation units (e.g. states), we can get to revenue as:\n",
    "$$ \\text{Revenue} = \\sum_{i=1}^{N}{\\text{price}_{i} * \\text{volume}_{i}} $$\n",
    "\n",
    "Instead of having volume directly in the formula, we could instead write it this way:\n",
    "\n",
    "$$ \\text{Revenue} = \\sum_{i=1}^{N}{\\text{price}_{i} * (\\sum{\\text{volume}_{i}}} * \\frac{\\text{volume}_{i}}{\\sum{\\text{volume}_{i}}} ) $$\n",
    "\n",
    "It's like a high school math trick. We took volume in a particular state $i$ and divided and multiplied it by total volume across the business. Now, however, we can think about the formula as having three components: price, total volume, and \"share of volume\". And what is mix impact? You guessed it, it's a change in share of volumes!\n",
    "\n",
    "Let's we can update our formulas, so that in each case only one of the components is changing:\n",
    "\n",
    "$$\n",
    "\\text{Price effect} = (\\text{Price}_2 - \\text{Price}_1) * \\text{Quantity}_2 \\\\ \n",
    "\\text{Volume effect} = (\\text{Total Quantity}_2 - \\text{Total Quantity}_1) * \\text{Share of Quantity}_1 * \\text{Price}_1 \\\\\n",
    "\\text{Mix effect} = (\\text{Share of Quantity}_2 - \\text{Share of Quantity}_1) * \\text{Total Quantity}_1 * \\text{Price}_1\n",
    "$$\n",
    "\n",
    "If we were to use these formulas to calculate effects, we would get `123k` for price effect (formula hasn't changed), `1533k` for volume effect (same as if we were to calculate volume effect on an aggregated data) and `-98k` for mix effect (exactly what we got when we compared the two sets of calculations above).\n",
    "\n",
    "Confusing? Yeah, I know... I made a [quick spreadsheet](https://docs.google.com/spreadsheets/d/1fDR5vNHIOO0MfBQPC69R9moflt5fR8MwWI2IpD0Wirs/edit?usp=sharing) with the above calculations - if you're really determined, you may want to check it out. Confusion isn't the only reason I am not a fan of these formulas. The other reason is that mix impact does not have a good meaning on a individual calculation unit level. Let's take Sao Paolo. Our analysis shows that the volume growth in it contributed `924k` in revenue. Using the 3-component formula, we get that `924k` is now broken down into `538k` in volume effect and `386k` in mix effect. But what does it mean? Also, we concluded that the overall mix effect was negative (`-98k`), and we know that Sao Paolo was the main reason for it - its growth brought our average prices down. How can its mix effect be positive? What is going on? \n",
    "\n",
    "The answer, in brief, is that mix effects by state are affecting each other. If share of volume of one state goes up, then, by definition, some other states will see their share decline. And that's why you can't really look at them separately. It's possible to wrap your head aroud their meaning - but the chances of communicating them effectively to a business person are really low. My advice is to avoid doing that. We'll return to a better way to look at mix impacts later on.\n",
    "\n",
    "\n",
    "\n",
    "\n",
    "\n",
    "\n"
   ]
  },
  {
   "cell_type": "markdown",
   "metadata": {},
   "source": [
    "## Turtles all the way down\n",
    "\n",
    "Now that we're clear with the mechanics behind PVM, let's turn to the the most important aspect of the analysis, which, if not chosen carefully, make the output of it, at a minimum, hard to interpret, and worst - complete rubbish. And it's not \"which formula variation to use\". Instead, the choice that's most important is the one of the unit of analysis.\n",
    "\n",
    "So far, we did calculations on an aggregate level and on a customer-based geography level. But we have access to so many more dimensions in this data! We could analyse price and volume dynamics by:\n",
    "* Seller geography or even individual seller\n",
    "* Product category or even individual product\n",
    "* Individual customer\n",
    "* A combination of the above factors\n",
    "\n",
    "What's the right choice? For one, it's not necessarily the most granular level possible. Suppose we calculated effects on individual customer ID / seller ID / product ID combination. In that case, we would only capture price effects in situations where the same customer bought the same product from the same seller. Everything else would count as volume effects. That doesn't sound very appropriate. In fact, in this particular dataset, not a single customer appears in multiple years (probably a function of anonymization), so it definitely would not work.\n",
    "\n",
    "You could take a product-first perspective: it doesn't matter who buys it and from whom they buy it, price effects should capture pricing changes in individual products. This approach could be appropriate for a company that sells products that don't change often. E.g., your local bakery. You could calculate it PMV effects on every cookie, coffee and lunch item variation and the total price effects would likely represent price inflation. But in an e-commerce marketplace, a lot individual products are shortlived. If we were to do PVM analysis on a product ID level, we would get this:\n",
    "\n"
   ]
  },
  {
   "cell_type": "code",
   "execution_count": 11,
   "metadata": {},
   "outputs": [],
   "source": [
    "defs = pvmf.TotalField(\n",
    "    \"revenue\",\n",
    "    \"total\",\n",
    "    components=[\n",
    "        pvmf.RateField(name=\"price\"),\n",
    "        pvmf.QuantityField(\"quantity\"),\n",
    "    ],\n",
    ")\n",
    "\n",
    "p = pvmc.PVM(\n",
    "    sales_data.with_columns(pl.col(\"revenue\") / 1000, pl.col(\"quantity\") / 1000),\n",
    "    period_col=\"year\",\n",
    "    calculation_fields=defs,\n",
    ")\n",
    "hierarchy = [\"product_id\"]\n",
    "\n",
    "calculated = p.calculate(hierarchy=hierarchy, return_detail=True)"
   ]
  },
  {
   "cell_type": "code",
   "execution_count": 12,
   "metadata": {},
   "outputs": [
    {
     "data": {
      "text/html": [
       "\n",
       "<style>\n",
       "  #altair-viz-f58050eada6a429ea74a86e27b157ef6.vega-embed {\n",
       "    width: 100%;\n",
       "    display: flex;\n",
       "  }\n",
       "\n",
       "  #altair-viz-f58050eada6a429ea74a86e27b157ef6.vega-embed details,\n",
       "  #altair-viz-f58050eada6a429ea74a86e27b157ef6.vega-embed details summary {\n",
       "    position: relative;\n",
       "  }\n",
       "</style>\n",
       "<div id=\"altair-viz-f58050eada6a429ea74a86e27b157ef6\"></div>\n",
       "<script type=\"text/javascript\">\n",
       "  var VEGA_DEBUG = (typeof VEGA_DEBUG == \"undefined\") ? {} : VEGA_DEBUG;\n",
       "  (function(spec, embedOpt){\n",
       "    let outputDiv = document.currentScript.previousElementSibling;\n",
       "    if (outputDiv.id !== \"altair-viz-f58050eada6a429ea74a86e27b157ef6\") {\n",
       "      outputDiv = document.getElementById(\"altair-viz-f58050eada6a429ea74a86e27b157ef6\");\n",
       "    }\n",
       "    const paths = {\n",
       "      \"vega\": \"https://cdn.jsdelivr.net/npm/vega@5?noext\",\n",
       "      \"vega-lib\": \"https://cdn.jsdelivr.net/npm/vega-lib?noext\",\n",
       "      \"vega-lite\": \"https://cdn.jsdelivr.net/npm/vega-lite@5.14.1?noext\",\n",
       "      \"vega-embed\": \"https://cdn.jsdelivr.net/npm/vega-embed@6?noext\",\n",
       "    };\n",
       "\n",
       "    function maybeLoadScript(lib, version) {\n",
       "      var key = `${lib.replace(\"-\", \"\")}_version`;\n",
       "      return (VEGA_DEBUG[key] == version) ?\n",
       "        Promise.resolve(paths[lib]) :\n",
       "        new Promise(function(resolve, reject) {\n",
       "          var s = document.createElement('script');\n",
       "          document.getElementsByTagName(\"head\")[0].appendChild(s);\n",
       "          s.async = true;\n",
       "          s.onload = () => {\n",
       "            VEGA_DEBUG[key] = version;\n",
       "            return resolve(paths[lib]);\n",
       "          };\n",
       "          s.onerror = () => reject(`Error loading script: ${paths[lib]}`);\n",
       "          s.src = paths[lib];\n",
       "        });\n",
       "    }\n",
       "\n",
       "    function showError(err) {\n",
       "      outputDiv.innerHTML = `<div class=\"error\" style=\"color:red;\">${err}</div>`;\n",
       "      throw err;\n",
       "    }\n",
       "\n",
       "    function displayChart(vegaEmbed) {\n",
       "      vegaEmbed(outputDiv, spec, embedOpt)\n",
       "        .catch(err => showError(`Javascript Error: ${err.message}<br>This usually means there's a typo in your chart specification. See the javascript console for the full traceback.`));\n",
       "    }\n",
       "\n",
       "    if(typeof define === \"function\" && define.amd) {\n",
       "      requirejs.config({paths});\n",
       "      require([\"vega-embed\"], displayChart, err => showError(`Error loading script: ${err.message}`));\n",
       "    } else {\n",
       "      maybeLoadScript(\"vega\", \"5\")\n",
       "        .then(() => maybeLoadScript(\"vega-lite\", \"5.14.1\"))\n",
       "        .then(() => maybeLoadScript(\"vega-embed\", \"6\"))\n",
       "        .catch(showError)\n",
       "        .then(() => displayChart(vegaEmbed));\n",
       "    }\n",
       "  })({\"config\": {\"view\": {\"continuousWidth\": 300, \"continuousHeight\": 300}}, \"layer\": [{\"mark\": {\"type\": \"bar\"}, \"encoding\": {\"color\": {\"field\": \"color\", \"scale\": null, \"type\": \"nominal\"}, \"tooltip\": [{\"field\": \"running_total\", \"type\": \"quantitative\"}, {\"field\": \"amount\", \"type\": \"quantitative\"}, {\"field\": \"label\", \"type\": \"nominal\"}], \"x\": {\"axis\": {\"labelAngle\": -60, \"labelExpr\": \"datum.value =='1' ? '2017' : datum.value =='2' ? 'New: product_id' : datum.value =='3' ? 'Discontinued: product_id' : datum.value =='4' ? 'Volume effect' : datum.value =='5' ? 'Price effect' : datum.value =='6' ? '2018' : ''\", \"title\": \"\"}, \"field\": \"row_number\", \"type\": \"nominal\"}, \"y\": {\"field\": \"running_total\", \"type\": \"quantitative\"}, \"y2\": {\"field\": \"prev_running_total\"}}}, {\"mark\": {\"type\": \"text\"}, \"encoding\": {\"text\": {\"field\": \"text_label\", \"type\": \"nominal\"}, \"tooltip\": [{\"field\": \"running_total\", \"type\": \"quantitative\"}, {\"field\": \"amount\", \"type\": \"quantitative\"}], \"x\": {\"axis\": {\"labelAngle\": -60, \"labelExpr\": \"datum.value =='1' ? '2017' : datum.value =='2' ? 'New: product_id' : datum.value =='3' ? 'Discontinued: product_id' : datum.value =='4' ? 'Volume effect' : datum.value =='5' ? 'Price effect' : datum.value =='6' ? '2018' : ''\", \"title\": \"\"}, \"field\": \"row_number\", \"type\": \"nominal\"}, \"y\": {\"field\": \"text_label_position\", \"title\": \"\", \"type\": \"quantitative\"}}}, {\"mark\": {\"type\": \"text\", \"dy\": -10}, \"encoding\": {\"text\": {\"field\": \"total_text_label\", \"type\": \"nominal\"}, \"x\": {\"axis\": {\"labelAngle\": -60, \"labelExpr\": \"datum.value =='1' ? '2017' : datum.value =='2' ? 'New: product_id' : datum.value =='3' ? 'Discontinued: product_id' : datum.value =='4' ? 'Volume effect' : datum.value =='5' ? 'Price effect' : datum.value =='6' ? '2018' : ''\", \"title\": \"\"}, \"field\": \"row_number\", \"type\": \"nominal\"}, \"y\": {\"field\": \"text_label_position\", \"title\": \"\", \"type\": \"quantitative\"}}}], \"data\": {\"name\": \"data-2342ffb64db5a29b6761159a751b7de1\"}, \"title\": \"Olist revenue bridge 2017-2018\", \"width\": 650, \"$schema\": \"https://vega.github.io/schema/vega-lite/v5.14.1.json\", \"datasets\": {\"data-2342ffb64db5a29b6761159a751b7de1\": [{\"label\": \"2017\", \"amount\": 6805.5, \"running_total\": 6805.5, \"prev_running_total\": 0.0, \"text_label\": \"\", \"total_text_label\": \"6805.5\", \"color\": \"orange\", \"text_label_position\": 6805.5, \"row_number\": 1}, {\"label\": \"New: product_id\", \"amount\": 5051.9, \"running_total\": 11857.5, \"prev_running_total\": 6805.5, \"text_label\": \"+5051.9\", \"total_text_label\": \"\", \"color\": \"green\", \"text_label_position\": 9331.5, \"row_number\": 2}, {\"label\": \"Discontinued: product_id\", \"amount\": -3713.0, \"running_total\": 8144.4, \"prev_running_total\": 11857.5, \"text_label\": \"-3713.0\", \"total_text_label\": \"\", \"color\": \"red\", \"text_label_position\": 13714.0, \"row_number\": 3}, {\"label\": \"Volume effect\", \"amount\": 288.2, \"running_total\": 8432.6, \"prev_running_total\": 8144.4, \"text_label\": \"+288.2\", \"total_text_label\": \"\", \"color\": \"green\", \"text_label_position\": 8288.5, \"row_number\": 4}, {\"label\": \"Price effect\", \"amount\": -114.4, \"running_total\": 8318.2, \"prev_running_total\": 8432.6, \"text_label\": \"-114.4\", \"total_text_label\": \"\", \"color\": \"red\", \"text_label_position\": 8489.9, \"row_number\": 5}, {\"label\": \"2018\", \"amount\": 0.0, \"running_total\": 8318.2, \"prev_running_total\": 0.0, \"text_label\": \"\", \"total_text_label\": \"8318.2\", \"color\": \"orange\", \"text_label_position\": 8318.2, \"row_number\": 6}]}}, {\"mode\": \"vega-lite\"});\n",
       "</script>"
      ],
      "text/plain": [
       "alt.LayerChart(...)"
      ]
     },
     "execution_count": 12,
     "metadata": {},
     "output_type": "execute_result"
    }
   ],
   "source": [
    "chart_components = itt.chain(\n",
    "    [(\"2017\", True, r2017)],\n",
    "    p.find_largest_components(calculated, \"product_id\", max_components=0),\n",
    "    [(\"2018\", True, 0)],\n",
    ")\n",
    "\n",
    "pmv_charts.waterfall(chart_components, labelAngle=-60).properties(\n",
    "    width=650, title=\"Olist revenue bridge 2017-2018\"\n",
    ")"
   ]
  },
  {
   "cell_type": "code",
   "execution_count": 13,
   "metadata": {},
   "outputs": [
    {
     "name": "stdout",
     "output_type": "stream",
     "text": [
      "+---------------+---------------+---------+--------------+----------------+-----------------+--------------+--------------+-------+\n",
      "|    status     | status_reason | revenue | revenue_next | revenue_change | quantity_effect | price_effect | total_effect | count |\n",
      "+---------------+---------------+---------+--------------+----------------+-----------------+--------------+--------------+-------+\n",
      "| like-for-like |               | 3092.5  |    3312.4    |     219.9      |      288.2      |    -114.4    |    173.8     | 4854  |\n",
      "| discontinued  |  product_id   | 3713.0  |     0.0      |    -3713.0     |     -3713.0     |     0.0      |   -3713.0    | 11569 |\n",
      "|  introduced   |  product_id   |   0.0   |    5051.9    |     5051.9     |     5051.9      |     0.0      |    5051.9    | 15063 |\n",
      "+---------------+---------------+---------+--------------+----------------+-----------------+--------------+--------------+-------+\n"
     ]
    }
   ],
   "source": [
    "print_table(p.summarize(calculated))"
   ]
  },
  {
   "cell_type": "markdown",
   "metadata": {},
   "source": [
    "Now, it could be that that's the story you want to tell: we're seeing a large product churn in the business, while the products that stay on the marketplace saw a volume increase, offset by lower prices. However, given that products that stay year-on-year account for less than 50% of total revenue, it may not be a good choice. There's a good chance that the relatively high negative price we're seeing is because of substitution effects: newly introduced products are effectively replacements for existing products, and the latter are then sold at lower prices to clear the inventory. \n",
    "\n",
    "Imagine we were selling phones - when iPhone 20 is released, the price of iPhone 19 will typically go down. But should this be reflected as a \"price effect\"? That's just product portfolio change. In this case, we may be more interested in capturing price changes across the entire phone SKU portfolio, acknowledging that price effects will be a function of deliberate pricing changes as well as the change in the mix of phone SKU portfolio. \n",
    "\n",
    "Unfortunately, the dataset does not have categorization of products on that level of detail. Instead, we only have broad categories. Let's see what happens if we use those. "
   ]
  },
  {
   "cell_type": "code",
   "execution_count": 58,
   "metadata": {},
   "outputs": [
    {
     "data": {
      "text/html": [
       "\n",
       "<style>\n",
       "  #altair-viz-c73687b1218749649ed9b1329e081483.vega-embed {\n",
       "    width: 100%;\n",
       "    display: flex;\n",
       "  }\n",
       "\n",
       "  #altair-viz-c73687b1218749649ed9b1329e081483.vega-embed details,\n",
       "  #altair-viz-c73687b1218749649ed9b1329e081483.vega-embed details summary {\n",
       "    position: relative;\n",
       "  }\n",
       "</style>\n",
       "<div id=\"altair-viz-c73687b1218749649ed9b1329e081483\"></div>\n",
       "<script type=\"text/javascript\">\n",
       "  var VEGA_DEBUG = (typeof VEGA_DEBUG == \"undefined\") ? {} : VEGA_DEBUG;\n",
       "  (function(spec, embedOpt){\n",
       "    let outputDiv = document.currentScript.previousElementSibling;\n",
       "    if (outputDiv.id !== \"altair-viz-c73687b1218749649ed9b1329e081483\") {\n",
       "      outputDiv = document.getElementById(\"altair-viz-c73687b1218749649ed9b1329e081483\");\n",
       "    }\n",
       "    const paths = {\n",
       "      \"vega\": \"https://cdn.jsdelivr.net/npm/vega@5?noext\",\n",
       "      \"vega-lib\": \"https://cdn.jsdelivr.net/npm/vega-lib?noext\",\n",
       "      \"vega-lite\": \"https://cdn.jsdelivr.net/npm/vega-lite@5.14.1?noext\",\n",
       "      \"vega-embed\": \"https://cdn.jsdelivr.net/npm/vega-embed@6?noext\",\n",
       "    };\n",
       "\n",
       "    function maybeLoadScript(lib, version) {\n",
       "      var key = `${lib.replace(\"-\", \"\")}_version`;\n",
       "      return (VEGA_DEBUG[key] == version) ?\n",
       "        Promise.resolve(paths[lib]) :\n",
       "        new Promise(function(resolve, reject) {\n",
       "          var s = document.createElement('script');\n",
       "          document.getElementsByTagName(\"head\")[0].appendChild(s);\n",
       "          s.async = true;\n",
       "          s.onload = () => {\n",
       "            VEGA_DEBUG[key] = version;\n",
       "            return resolve(paths[lib]);\n",
       "          };\n",
       "          s.onerror = () => reject(`Error loading script: ${paths[lib]}`);\n",
       "          s.src = paths[lib];\n",
       "        });\n",
       "    }\n",
       "\n",
       "    function showError(err) {\n",
       "      outputDiv.innerHTML = `<div class=\"error\" style=\"color:red;\">${err}</div>`;\n",
       "      throw err;\n",
       "    }\n",
       "\n",
       "    function displayChart(vegaEmbed) {\n",
       "      vegaEmbed(outputDiv, spec, embedOpt)\n",
       "        .catch(err => showError(`Javascript Error: ${err.message}<br>This usually means there's a typo in your chart specification. See the javascript console for the full traceback.`));\n",
       "    }\n",
       "\n",
       "    if(typeof define === \"function\" && define.amd) {\n",
       "      requirejs.config({paths});\n",
       "      require([\"vega-embed\"], displayChart, err => showError(`Error loading script: ${err.message}`));\n",
       "    } else {\n",
       "      maybeLoadScript(\"vega\", \"5\")\n",
       "        .then(() => maybeLoadScript(\"vega-lite\", \"5.14.1\"))\n",
       "        .then(() => maybeLoadScript(\"vega-embed\", \"6\"))\n",
       "        .catch(showError)\n",
       "        .then(() => displayChart(vegaEmbed));\n",
       "    }\n",
       "  })({\"config\": {\"view\": {\"continuousWidth\": 300, \"continuousHeight\": 300}}, \"layer\": [{\"mark\": {\"type\": \"bar\"}, \"encoding\": {\"color\": {\"field\": \"color\", \"scale\": null, \"type\": \"nominal\"}, \"tooltip\": [{\"field\": \"running_total\", \"type\": \"quantitative\"}, {\"field\": \"amount\", \"type\": \"quantitative\"}, {\"field\": \"label\", \"type\": \"nominal\"}], \"x\": {\"axis\": {\"labelAngle\": -60, \"labelExpr\": \"datum.value =='1' ? '2017' : datum.value =='2' ? 'Discontinued: product_category_name_english' : datum.value =='3' ? 'watches_gifts quantity effect' : datum.value =='4' ? 'health_beauty quantity effect' : datum.value =='5' ? 'computers_accessories quantity effect' : datum.value =='6' ? 'auto quantity effect' : datum.value =='7' ? 'cool_stuff quantity effect' : datum.value =='8' ? 'computers_accessories price effect' : datum.value =='9' ? 'watches_gifts price effect' : datum.value =='10' ? 'housewares price effect' : datum.value =='11' ? 'furniture_decor price effect' : datum.value =='12' ? 'home_appliances_2 price effect' : datum.value =='13' ? 'Other - volume effect' : datum.value =='14' ? 'Other - price effect' : datum.value =='15' ? '2018' : ''\", \"title\": \"\"}, \"field\": \"row_number\", \"type\": \"nominal\"}, \"y\": {\"field\": \"running_total\", \"type\": \"quantitative\"}, \"y2\": {\"field\": \"prev_running_total\"}}}, {\"mark\": {\"type\": \"text\"}, \"encoding\": {\"text\": {\"field\": \"text_label\", \"type\": \"nominal\"}, \"tooltip\": [{\"field\": \"running_total\", \"type\": \"quantitative\"}, {\"field\": \"amount\", \"type\": \"quantitative\"}, {\"field\": \"label\", \"type\": \"nominal\"}], \"x\": {\"axis\": {\"labelAngle\": -60, \"labelExpr\": \"datum.value =='1' ? '2017' : datum.value =='2' ? 'Discontinued: product_category_name_english' : datum.value =='3' ? 'watches_gifts quantity effect' : datum.value =='4' ? 'health_beauty quantity effect' : datum.value =='5' ? 'computers_accessories quantity effect' : datum.value =='6' ? 'auto quantity effect' : datum.value =='7' ? 'cool_stuff quantity effect' : datum.value =='8' ? 'computers_accessories price effect' : datum.value =='9' ? 'watches_gifts price effect' : datum.value =='10' ? 'housewares price effect' : datum.value =='11' ? 'furniture_decor price effect' : datum.value =='12' ? 'home_appliances_2 price effect' : datum.value =='13' ? 'Other - volume effect' : datum.value =='14' ? 'Other - price effect' : datum.value =='15' ? '2018' : ''\", \"title\": \"\"}, \"field\": \"row_number\", \"type\": \"nominal\"}, \"y\": {\"field\": \"text_label_position\", \"title\": \"\", \"type\": \"quantitative\"}}}, {\"mark\": {\"type\": \"text\", \"dy\": -10}, \"encoding\": {\"text\": {\"field\": \"total_text_label\", \"type\": \"nominal\"}, \"x\": {\"axis\": {\"labelAngle\": -60, \"labelExpr\": \"datum.value =='1' ? '2017' : datum.value =='2' ? 'Discontinued: product_category_name_english' : datum.value =='3' ? 'watches_gifts quantity effect' : datum.value =='4' ? 'health_beauty quantity effect' : datum.value =='5' ? 'computers_accessories quantity effect' : datum.value =='6' ? 'auto quantity effect' : datum.value =='7' ? 'cool_stuff quantity effect' : datum.value =='8' ? 'computers_accessories price effect' : datum.value =='9' ? 'watches_gifts price effect' : datum.value =='10' ? 'housewares price effect' : datum.value =='11' ? 'furniture_decor price effect' : datum.value =='12' ? 'home_appliances_2 price effect' : datum.value =='13' ? 'Other - volume effect' : datum.value =='14' ? 'Other - price effect' : datum.value =='15' ? '2018' : ''\", \"title\": \"\"}, \"field\": \"row_number\", \"type\": \"nominal\"}, \"y\": {\"field\": \"text_label_position\", \"title\": \"\", \"type\": \"quantitative\"}}}], \"data\": {\"name\": \"data-e6e0017b40f5e9d1f80667e8222697f5\"}, \"title\": \"Olist revenue bridge 2017-2018\", \"width\": 650, \"$schema\": \"https://vega.github.io/schema/vega-lite/v5.14.1.json\", \"datasets\": {\"data-e6e0017b40f5e9d1f80667e8222697f5\": [{\"label\": \"2017\", \"amount\": 6805.5, \"running_total\": 6805.5, \"prev_running_total\": 0.0, \"text_label\": \"\", \"total_text_label\": \"6805.5\", \"color\": \"orange\", \"text_label_position\": 6805.5, \"row_number\": 1}, {\"label\": \"Discontinued: product_category_name_english\", \"amount\": -0.3, \"running_total\": 6805.2, \"prev_running_total\": 6805.5, \"text_label\": \"-0.3\", \"total_text_label\": \"\", \"color\": \"red\", \"text_label_position\": 6805.7, \"row_number\": 2}, {\"label\": \"watches_gifts quantity effect\", \"amount\": 299.2, \"running_total\": 7104.4, \"prev_running_total\": 6805.2, \"text_label\": \"+299.2\", \"total_text_label\": \"\", \"color\": \"green\", \"text_label_position\": 6954.8, \"row_number\": 3}, {\"label\": \"health_beauty quantity effect\", \"amount\": 299.0, \"running_total\": 7403.5, \"prev_running_total\": 7104.4, \"text_label\": \"+299.0\", \"total_text_label\": \"\", \"color\": \"green\", \"text_label_position\": 7253.9, \"row_number\": 4}, {\"label\": \"computers_accessories quantity effect\", \"amount\": 209.8, \"running_total\": 7613.3, \"prev_running_total\": 7403.5, \"text_label\": \"+209.8\", \"total_text_label\": \"\", \"color\": \"green\", \"text_label_position\": 7508.4, \"row_number\": 5}, {\"label\": \"auto quantity effect\", \"amount\": 155.4, \"running_total\": 7768.6, \"prev_running_total\": 7613.3, \"text_label\": \"+155.4\", \"total_text_label\": \"\", \"color\": \"green\", \"text_label_position\": 7691.0, \"row_number\": 6}, {\"label\": \"cool_stuff quantity effect\", \"amount\": -137.6, \"running_total\": 7631.0, \"prev_running_total\": 7768.6, \"text_label\": \"-137.6\", \"total_text_label\": \"\", \"color\": \"red\", \"text_label_position\": 7837.5, \"row_number\": 7}, {\"label\": \"computers_accessories price effect\", \"amount\": -105.3, \"running_total\": 7525.7, \"prev_running_total\": 7631.0, \"text_label\": \"-105.3\", \"total_text_label\": \"\", \"color\": \"red\", \"text_label_position\": 7683.7, \"row_number\": 8}, {\"label\": \"watches_gifts price effect\", \"amount\": -87.0, \"running_total\": 7438.7, \"prev_running_total\": 7525.7, \"text_label\": \"-87.0\", \"total_text_label\": \"\", \"color\": \"red\", \"text_label_position\": 7569.1, \"row_number\": 9}, {\"label\": \"housewares price effect\", \"amount\": 78.0, \"running_total\": 7516.7, \"prev_running_total\": 7438.7, \"text_label\": \"+78.0\", \"total_text_label\": \"\", \"color\": \"green\", \"text_label_position\": 7477.7, \"row_number\": 10}, {\"label\": \"furniture_decor price effect\", \"amount\": 56.5, \"running_total\": 7573.2, \"prev_running_total\": 7516.7, \"text_label\": \"+56.5\", \"total_text_label\": \"\", \"color\": \"green\", \"text_label_position\": 7544.9, \"row_number\": 11}, {\"label\": \"home_appliances_2 price effect\", \"amount\": 49.4, \"running_total\": 7622.5, \"prev_running_total\": 7573.2, \"text_label\": \"+49.4\", \"total_text_label\": \"\", \"color\": \"green\", \"text_label_position\": 7597.9, \"row_number\": 12}, {\"label\": \"Other - volume effect\", \"amount\": 639.4, \"running_total\": 8262.0, \"prev_running_total\": 7622.5, \"text_label\": \"+639.4\", \"total_text_label\": \"\", \"color\": \"green\", \"text_label_position\": 7942.3, \"row_number\": 13}, {\"label\": \"Other - price effect\", \"amount\": -176.0, \"running_total\": 8086.0, \"prev_running_total\": 8262.0, \"text_label\": \"-176.0\", \"total_text_label\": \"\", \"color\": \"red\", \"text_label_position\": 8350.0, \"row_number\": 14}, {\"label\": \"2018\", \"amount\": 0.0, \"running_total\": 8086.0, \"prev_running_total\": 0.0, \"text_label\": \"\", \"total_text_label\": \"8086.0\", \"color\": \"orange\", \"text_label_position\": 8086.0, \"row_number\": 15}]}}, {\"mode\": \"vega-lite\"});\n",
       "</script>"
      ],
      "text/plain": [
       "alt.LayerChart(...)"
      ]
     },
     "execution_count": 58,
     "metadata": {},
     "output_type": "execute_result"
    }
   ],
   "source": [
    "imp.reload(pmv_charts)\n",
    "hierarchy = [\"product_category_name_english\"]\n",
    "\n",
    "calculated = p.calculate(hierarchy=hierarchy, return_detail=False)\n",
    "\n",
    "chart_components = list(\n",
    "    itt.chain(\n",
    "        [(\"2017\", True, r2017)],\n",
    "        p.find_largest_components(calculated, hierarchy[0], max_components=5),\n",
    "        [(\"2018\", True, 0)],\n",
    "    )\n",
    ")\n",
    "\n",
    "pmv_charts.waterfall(chart_components, labelAngle=-60).properties(\n",
    "    width=650, title=\"Olist revenue bridge 2017-2018\"\n",
    ")"
   ]
  },
  {
   "cell_type": "code",
   "execution_count": 59,
   "metadata": {},
   "outputs": [
    {
     "name": "stdout",
     "output_type": "stream",
     "text": [
      "+---------------+-------------------------------+---------+-----------------+--------------+--------------+-------+\n",
      "|    status     |         status_reason         | revenue | quantity_effect | price_effect | total_effect | count |\n",
      "+---------------+-------------------------------+---------+-----------------+--------------+--------------+-------+\n",
      "| like-for-like |                               | 6805.2  |     1465.2      |    -184.5    |    1280.8    |  70   |\n",
      "| discontinued  | product_category_name_english |   0.3   |      -0.3       |     0.0      |     -0.3     |   1   |\n",
      "+---------------+-------------------------------+---------+-----------------+--------------+--------------+-------+\n"
     ]
    }
   ],
   "source": [
    "print_table(p.summarize(calculated))"
   ]
  },
  {
   "cell_type": "markdown",
   "metadata": {},
   "source": [
    "Now we are starting to see some interesting dynamics. First of all, price effect is highly negative (-185M), and it appears that there are two specific product categories - computer accessories & watches - where price decreases are concentrated. Given our unit of analysis, it could represent a shift of mix towards lower-priced product subcategories (e.g. more keyboard sales than monitor sales), but it nevertheless is an interesting dynamic. We can also see which product categories account for the majority of the volume growth: watches, health & beauty, computer accessories and auto are the main drivers.\n",
    "\n",
    "A completely different perspective would be to argue that Olist is primarily about sellers. We should thus analyse its growth first by understanding if we are gaining/losing sellers and what happens to their sales. In fact, we could combine both seller- and product- perspectives."
   ]
  },
  {
   "cell_type": "code",
   "execution_count": 64,
   "metadata": {},
   "outputs": [
    {
     "data": {
      "text/html": [
       "\n",
       "<style>\n",
       "  #altair-viz-374171d3fdd84175968b65ace374c3e3.vega-embed {\n",
       "    width: 100%;\n",
       "    display: flex;\n",
       "  }\n",
       "\n",
       "  #altair-viz-374171d3fdd84175968b65ace374c3e3.vega-embed details,\n",
       "  #altair-viz-374171d3fdd84175968b65ace374c3e3.vega-embed details summary {\n",
       "    position: relative;\n",
       "  }\n",
       "</style>\n",
       "<div id=\"altair-viz-374171d3fdd84175968b65ace374c3e3\"></div>\n",
       "<script type=\"text/javascript\">\n",
       "  var VEGA_DEBUG = (typeof VEGA_DEBUG == \"undefined\") ? {} : VEGA_DEBUG;\n",
       "  (function(spec, embedOpt){\n",
       "    let outputDiv = document.currentScript.previousElementSibling;\n",
       "    if (outputDiv.id !== \"altair-viz-374171d3fdd84175968b65ace374c3e3\") {\n",
       "      outputDiv = document.getElementById(\"altair-viz-374171d3fdd84175968b65ace374c3e3\");\n",
       "    }\n",
       "    const paths = {\n",
       "      \"vega\": \"https://cdn.jsdelivr.net/npm/vega@5?noext\",\n",
       "      \"vega-lib\": \"https://cdn.jsdelivr.net/npm/vega-lib?noext\",\n",
       "      \"vega-lite\": \"https://cdn.jsdelivr.net/npm/vega-lite@5.14.1?noext\",\n",
       "      \"vega-embed\": \"https://cdn.jsdelivr.net/npm/vega-embed@6?noext\",\n",
       "    };\n",
       "\n",
       "    function maybeLoadScript(lib, version) {\n",
       "      var key = `${lib.replace(\"-\", \"\")}_version`;\n",
       "      return (VEGA_DEBUG[key] == version) ?\n",
       "        Promise.resolve(paths[lib]) :\n",
       "        new Promise(function(resolve, reject) {\n",
       "          var s = document.createElement('script');\n",
       "          document.getElementsByTagName(\"head\")[0].appendChild(s);\n",
       "          s.async = true;\n",
       "          s.onload = () => {\n",
       "            VEGA_DEBUG[key] = version;\n",
       "            return resolve(paths[lib]);\n",
       "          };\n",
       "          s.onerror = () => reject(`Error loading script: ${paths[lib]}`);\n",
       "          s.src = paths[lib];\n",
       "        });\n",
       "    }\n",
       "\n",
       "    function showError(err) {\n",
       "      outputDiv.innerHTML = `<div class=\"error\" style=\"color:red;\">${err}</div>`;\n",
       "      throw err;\n",
       "    }\n",
       "\n",
       "    function displayChart(vegaEmbed) {\n",
       "      vegaEmbed(outputDiv, spec, embedOpt)\n",
       "        .catch(err => showError(`Javascript Error: ${err.message}<br>This usually means there's a typo in your chart specification. See the javascript console for the full traceback.`));\n",
       "    }\n",
       "\n",
       "    if(typeof define === \"function\" && define.amd) {\n",
       "      requirejs.config({paths});\n",
       "      require([\"vega-embed\"], displayChart, err => showError(`Error loading script: ${err.message}`));\n",
       "    } else {\n",
       "      maybeLoadScript(\"vega\", \"5\")\n",
       "        .then(() => maybeLoadScript(\"vega-lite\", \"5.14.1\"))\n",
       "        .then(() => maybeLoadScript(\"vega-embed\", \"6\"))\n",
       "        .catch(showError)\n",
       "        .then(() => displayChart(vegaEmbed));\n",
       "    }\n",
       "  })({\"config\": {\"view\": {\"continuousWidth\": 300, \"continuousHeight\": 300}}, \"layer\": [{\"mark\": {\"type\": \"bar\"}, \"encoding\": {\"color\": {\"field\": \"color\", \"scale\": null, \"type\": \"nominal\"}, \"tooltip\": [{\"field\": \"running_total\", \"type\": \"quantitative\"}, {\"field\": \"amount\", \"type\": \"quantitative\"}, {\"field\": \"label\", \"type\": \"nominal\"}], \"x\": {\"axis\": {\"labelAngle\": -60, \"labelExpr\": \"datum.value =='1' ? '2017' : datum.value =='2' ? 'New: seller_id,product_category_name_english' : datum.value =='3' ? 'New: seller_id' : datum.value =='4' ? 'Discontinued: seller_id' : datum.value =='5' ? 'Discontinued: seller_id,product_category_name_english' : datum.value =='6' ? 'watches_gifts quantity effect' : datum.value =='7' ? 'computers quantity effect' : datum.value =='8' ? 'health_beauty quantity effect' : datum.value =='9' ? 'computers_accessories quantity effect' : datum.value =='10' ? 'toys quantity effect' : datum.value =='11' ? 'health_beauty price effect' : datum.value =='12' ? 'computers_accessories price effect' : datum.value =='13' ? 'housewares price effect' : datum.value =='14' ? 'baby price effect' : datum.value =='15' ? 'computers_accessories price effect' : datum.value =='16' ? 'Other - volume effect' : datum.value =='17' ? 'Other - price effect' : datum.value =='18' ? '2018' : ''\", \"title\": \"\"}, \"field\": \"row_number\", \"type\": \"nominal\"}, \"y\": {\"field\": \"running_total\", \"type\": \"quantitative\"}, \"y2\": {\"field\": \"prev_running_total\"}}}, {\"mark\": {\"type\": \"text\"}, \"encoding\": {\"text\": {\"field\": \"text_label\", \"type\": \"nominal\"}, \"tooltip\": [{\"field\": \"running_total\", \"type\": \"quantitative\"}, {\"field\": \"amount\", \"type\": \"quantitative\"}, {\"field\": \"label\", \"type\": \"nominal\"}], \"x\": {\"axis\": {\"labelAngle\": -60, \"labelExpr\": \"datum.value =='1' ? '2017' : datum.value =='2' ? 'New: seller_id,product_category_name_english' : datum.value =='3' ? 'New: seller_id' : datum.value =='4' ? 'Discontinued: seller_id' : datum.value =='5' ? 'Discontinued: seller_id,product_category_name_english' : datum.value =='6' ? 'watches_gifts quantity effect' : datum.value =='7' ? 'computers quantity effect' : datum.value =='8' ? 'health_beauty quantity effect' : datum.value =='9' ? 'computers_accessories quantity effect' : datum.value =='10' ? 'toys quantity effect' : datum.value =='11' ? 'health_beauty price effect' : datum.value =='12' ? 'computers_accessories price effect' : datum.value =='13' ? 'housewares price effect' : datum.value =='14' ? 'baby price effect' : datum.value =='15' ? 'computers_accessories price effect' : datum.value =='16' ? 'Other - volume effect' : datum.value =='17' ? 'Other - price effect' : datum.value =='18' ? '2018' : ''\", \"title\": \"\"}, \"field\": \"row_number\", \"type\": \"nominal\"}, \"y\": {\"field\": \"text_label_position\", \"title\": \"\", \"type\": \"quantitative\"}}}, {\"mark\": {\"type\": \"text\", \"dy\": -10}, \"encoding\": {\"text\": {\"field\": \"total_text_label\", \"type\": \"nominal\"}, \"x\": {\"axis\": {\"labelAngle\": -60, \"labelExpr\": \"datum.value =='1' ? '2017' : datum.value =='2' ? 'New: seller_id,product_category_name_english' : datum.value =='3' ? 'New: seller_id' : datum.value =='4' ? 'Discontinued: seller_id' : datum.value =='5' ? 'Discontinued: seller_id,product_category_name_english' : datum.value =='6' ? 'watches_gifts quantity effect' : datum.value =='7' ? 'computers quantity effect' : datum.value =='8' ? 'health_beauty quantity effect' : datum.value =='9' ? 'computers_accessories quantity effect' : datum.value =='10' ? 'toys quantity effect' : datum.value =='11' ? 'health_beauty price effect' : datum.value =='12' ? 'computers_accessories price effect' : datum.value =='13' ? 'housewares price effect' : datum.value =='14' ? 'baby price effect' : datum.value =='15' ? 'computers_accessories price effect' : datum.value =='16' ? 'Other - volume effect' : datum.value =='17' ? 'Other - price effect' : datum.value =='18' ? '2018' : ''\", \"title\": \"\"}, \"field\": \"row_number\", \"type\": \"nominal\"}, \"y\": {\"field\": \"text_label_position\", \"title\": \"\", \"type\": \"quantitative\"}}}], \"data\": {\"name\": \"data-c8bbb2f3cede69ab078eec954f3212ac\"}, \"title\": \"Olist revenue bridge 2017-2018\", \"width\": 650, \"$schema\": \"https://vega.github.io/schema/vega-lite/v5.14.1.json\", \"datasets\": {\"data-c8bbb2f3cede69ab078eec954f3212ac\": [{\"label\": \"2017\", \"amount\": 6805.5, \"running_total\": 6805.5, \"prev_running_total\": 0.0, \"text_label\": \"\", \"total_text_label\": \"6805.5\", \"color\": \"orange\", \"text_label_position\": 6805.5, \"row_number\": 1}, {\"label\": \"New: seller_id,product_category_name_english\", \"amount\": 449.7, \"running_total\": 7255.3, \"prev_running_total\": 6805.5, \"text_label\": \"+449.7\", \"total_text_label\": \"\", \"color\": \"green\", \"text_label_position\": 7030.4, \"row_number\": 2}, {\"label\": \"New: seller_id\", \"amount\": 2458.2, \"running_total\": 9713.5, \"prev_running_total\": 7255.3, \"text_label\": \"+2458.2\", \"total_text_label\": \"\", \"color\": \"green\", \"text_label_position\": 8484.4, \"row_number\": 3}, {\"label\": \"Discontinued: seller_id\", \"amount\": -698.2, \"running_total\": 9015.4, \"prev_running_total\": 9713.5, \"text_label\": \"-698.2\", \"total_text_label\": \"\", \"color\": \"red\", \"text_label_position\": 10062.6, \"row_number\": 4}, {\"label\": \"Discontinued: seller_id,product_category_name_english\", \"amount\": -308.4, \"running_total\": 8707.0, \"prev_running_total\": 9015.4, \"text_label\": \"-308.4\", \"total_text_label\": \"\", \"color\": \"red\", \"text_label_position\": 9169.6, \"row_number\": 5}, {\"label\": \"watches_gifts quantity effect\", \"amount\": -118.5, \"running_total\": 8588.5, \"prev_running_total\": 8707.0, \"text_label\": \"-118.5\", \"total_text_label\": \"\", \"color\": \"red\", \"text_label_position\": 8766.2, \"row_number\": 6}, {\"label\": \"computers quantity effect\", \"amount\": -112.8, \"running_total\": 8475.6, \"prev_running_total\": 8588.5, \"text_label\": \"-112.8\", \"total_text_label\": \"\", \"color\": \"red\", \"text_label_position\": 8644.9, \"row_number\": 7}, {\"label\": \"health_beauty quantity effect\", \"amount\": 92.5, \"running_total\": 8568.2, \"prev_running_total\": 8475.6, \"text_label\": \"+92.5\", \"total_text_label\": \"\", \"color\": \"green\", \"text_label_position\": 8521.9, \"row_number\": 8}, {\"label\": \"computers_accessories quantity effect\", \"amount\": 70.8, \"running_total\": 8639.0, \"prev_running_total\": 8568.2, \"text_label\": \"+70.8\", \"total_text_label\": \"\", \"color\": \"green\", \"text_label_position\": 8603.6, \"row_number\": 9}, {\"label\": \"toys quantity effect\", \"amount\": -61.9, \"running_total\": 8577.1, \"prev_running_total\": 8639.0, \"text_label\": \"-61.9\", \"total_text_label\": \"\", \"color\": \"red\", \"text_label_position\": 8669.9, \"row_number\": 10}, {\"label\": \"health_beauty price effect\", \"amount\": -50.2, \"running_total\": 8526.9, \"prev_running_total\": 8577.1, \"text_label\": \"-50.2\", \"total_text_label\": \"\", \"color\": \"red\", \"text_label_position\": 8602.2, \"row_number\": 11}, {\"label\": \"computers_accessories price effect\", \"amount\": -49.7, \"running_total\": 8477.2, \"prev_running_total\": 8526.9, \"text_label\": \"-49.7\", \"total_text_label\": \"\", \"color\": \"red\", \"text_label_position\": 8551.8, \"row_number\": 12}, {\"label\": \"housewares price effect\", \"amount\": -23.0, \"running_total\": 8454.2, \"prev_running_total\": 8477.2, \"text_label\": \"-23.0\", \"total_text_label\": \"\", \"color\": \"red\", \"text_label_position\": 8488.7, \"row_number\": 13}, {\"label\": \"baby price effect\", \"amount\": 20.9, \"running_total\": 8475.1, \"prev_running_total\": 8454.2, \"text_label\": \"+20.9\", \"total_text_label\": \"\", \"color\": \"green\", \"text_label_position\": 8464.6, \"row_number\": 14}, {\"label\": \"computers_accessories price effect\", \"amount\": -19.5, \"running_total\": 8455.5, \"prev_running_total\": 8475.1, \"text_label\": \"-19.5\", \"total_text_label\": \"\", \"color\": \"red\", \"text_label_position\": 8484.8, \"row_number\": 15}, {\"label\": \"Other - volume effect\", \"amount\": -131.4, \"running_total\": 8324.1, \"prev_running_total\": 8455.5, \"text_label\": \"-131.4\", \"total_text_label\": \"\", \"color\": \"red\", \"text_label_position\": 8521.2, \"row_number\": 16}, {\"label\": \"Other - price effect\", \"amount\": 23.1, \"running_total\": 8347.2, \"prev_running_total\": 8324.1, \"text_label\": \"+23.1\", \"total_text_label\": \"\", \"color\": \"green\", \"text_label_position\": 8335.7, \"row_number\": 17}, {\"label\": \"2018\", \"amount\": 0.0, \"running_total\": 8347.2, \"prev_running_total\": 0.0, \"text_label\": \"\", \"total_text_label\": \"8347.2\", \"color\": \"orange\", \"text_label_position\": 8347.2, \"row_number\": 18}]}}, {\"mode\": \"vega-lite\"});\n",
       "</script>"
      ],
      "text/plain": [
       "alt.LayerChart(...)"
      ]
     },
     "execution_count": 64,
     "metadata": {},
     "output_type": "execute_result"
    }
   ],
   "source": [
    "imp.reload(pmv_charts)\n",
    "hierarchy = [\"seller_id\", \"product_category_name_english\"]\n",
    "\n",
    "calculated = p.calculate(hierarchy=hierarchy, return_detail=False)\n",
    "\n",
    "chart_components = list(\n",
    "    itt.chain(\n",
    "        [(\"2017\", True, r2017)],\n",
    "        p.find_largest_components(calculated, hierarchy[1], max_components=5),\n",
    "        [(\"2018\", True, 0)],\n",
    "    )\n",
    ")\n",
    "\n",
    "pmv_charts.waterfall(chart_components, labelAngle=-60).properties(\n",
    "    width=650, title=\"Olist revenue bridge 2017-2018\"\n",
    ")"
   ]
  },
  {
   "cell_type": "code",
   "execution_count": 65,
   "metadata": {},
   "outputs": [
    {
     "name": "stdout",
     "output_type": "stream",
     "text": [
      "+---------------+-----------------------------------------+---------+-----------------+--------------+--------------+-------+\n",
      "|    status     |              status_reason              | revenue | quantity_effect | price_effect | total_effect | count |\n",
      "+---------------+-----------------------------------------+---------+-----------------+--------------+--------------+-------+\n",
      "|  introduced   | seller_id,product_category_name_english |   0.0   |      449.7      |     0.0      |    449.7     |  725  |\n",
      "|  introduced   |                seller_id                |   0.0   |     2458.2      |     0.0      |    2458.2    | 2151  |\n",
      "| discontinued  |                seller_id                |  698.2  |     -698.2      |     0.0      |    -698.2    |  852  |\n",
      "| discontinued  | seller_id,product_category_name_english |  308.4  |     -308.4      |     0.0      |    -308.4    |  604  |\n",
      "| like-for-like |                                         | 5799.0  |     -261.3      |    -98.4     |    -359.8    | 1770  |\n",
      "+---------------+-----------------------------------------+---------+-----------------+--------------+--------------+-------+\n"
     ]
    }
   ],
   "source": [
    "print_table(p.summarize(calculated))"
   ]
  },
  {
   "cell_type": "markdown",
   "metadata": {},
   "source": [
    "The chart labels that my WIP package spits out are imperfect, so let's take it step by step:\n",
    "\n",
    " * The biggest driver to revenue increase, it turns out, are sellers. New sellers contributed +2.458M in sales, offset by 698k lost sales from sellers that stopped using the platform.\n",
    " * Additionally, existing sellers saw a net positive effect from changes in the breadth of their portfolios. New product categories entered by existing sellers contributed 449k, offset by 308k of \"category exits\". \n",
    " * The price and volume effects among existing sellers selling in existing product categories were, overall, quite limited in coparison to seller-driven effects. Additionally, turns out both of them were negative: total volume effect among these items was -261k, and price effect -98k. Watches & gifts, a category that seemed to be of high-growth before, now shows up as with highest negative volume effects!\n",
    "\n",
    "It may seem that PVM analysis gives contradicting results every time. But what really is happening is that our chosen unit of analysis allows getting a different perspective into what's happening in Olist. If you were to sit back and think what kind of big picture all these analyses tell you, you could conclude something like this:\n",
    "* Revenue growth in Olist was primarily driven by influx of new sellers;\n",
    "* New sellers cannibalized existing sellers' sales - leading to volume decreases - and forcing sellers to lower prices in order to be able to compete.\n",
    "\n"
   ]
  },
  {
   "cell_type": "code",
   "execution_count": 70,
   "metadata": {},
   "outputs": [
    {
     "data": {
      "text/html": [
       "\n",
       "<style>\n",
       "  #altair-viz-cffd905f7cb54f0e97363c97a6566837.vega-embed {\n",
       "    width: 100%;\n",
       "    display: flex;\n",
       "  }\n",
       "\n",
       "  #altair-viz-cffd905f7cb54f0e97363c97a6566837.vega-embed details,\n",
       "  #altair-viz-cffd905f7cb54f0e97363c97a6566837.vega-embed details summary {\n",
       "    position: relative;\n",
       "  }\n",
       "</style>\n",
       "<div id=\"altair-viz-cffd905f7cb54f0e97363c97a6566837\"></div>\n",
       "<script type=\"text/javascript\">\n",
       "  var VEGA_DEBUG = (typeof VEGA_DEBUG == \"undefined\") ? {} : VEGA_DEBUG;\n",
       "  (function(spec, embedOpt){\n",
       "    let outputDiv = document.currentScript.previousElementSibling;\n",
       "    if (outputDiv.id !== \"altair-viz-cffd905f7cb54f0e97363c97a6566837\") {\n",
       "      outputDiv = document.getElementById(\"altair-viz-cffd905f7cb54f0e97363c97a6566837\");\n",
       "    }\n",
       "    const paths = {\n",
       "      \"vega\": \"https://cdn.jsdelivr.net/npm/vega@5?noext\",\n",
       "      \"vega-lib\": \"https://cdn.jsdelivr.net/npm/vega-lib?noext\",\n",
       "      \"vega-lite\": \"https://cdn.jsdelivr.net/npm/vega-lite@5.14.1?noext\",\n",
       "      \"vega-embed\": \"https://cdn.jsdelivr.net/npm/vega-embed@6?noext\",\n",
       "    };\n",
       "\n",
       "    function maybeLoadScript(lib, version) {\n",
       "      var key = `${lib.replace(\"-\", \"\")}_version`;\n",
       "      return (VEGA_DEBUG[key] == version) ?\n",
       "        Promise.resolve(paths[lib]) :\n",
       "        new Promise(function(resolve, reject) {\n",
       "          var s = document.createElement('script');\n",
       "          document.getElementsByTagName(\"head\")[0].appendChild(s);\n",
       "          s.async = true;\n",
       "          s.onload = () => {\n",
       "            VEGA_DEBUG[key] = version;\n",
       "            return resolve(paths[lib]);\n",
       "          };\n",
       "          s.onerror = () => reject(`Error loading script: ${paths[lib]}`);\n",
       "          s.src = paths[lib];\n",
       "        });\n",
       "    }\n",
       "\n",
       "    function showError(err) {\n",
       "      outputDiv.innerHTML = `<div class=\"error\" style=\"color:red;\">${err}</div>`;\n",
       "      throw err;\n",
       "    }\n",
       "\n",
       "    function displayChart(vegaEmbed) {\n",
       "      vegaEmbed(outputDiv, spec, embedOpt)\n",
       "        .catch(err => showError(`Javascript Error: ${err.message}<br>This usually means there's a typo in your chart specification. See the javascript console for the full traceback.`));\n",
       "    }\n",
       "\n",
       "    if(typeof define === \"function\" && define.amd) {\n",
       "      requirejs.config({paths});\n",
       "      require([\"vega-embed\"], displayChart, err => showError(`Error loading script: ${err.message}`));\n",
       "    } else {\n",
       "      maybeLoadScript(\"vega\", \"5\")\n",
       "        .then(() => maybeLoadScript(\"vega-lite\", \"5.14.1\"))\n",
       "        .then(() => maybeLoadScript(\"vega-embed\", \"6\"))\n",
       "        .catch(showError)\n",
       "        .then(() => displayChart(vegaEmbed));\n",
       "    }\n",
       "  })({\"config\": {\"view\": {\"continuousWidth\": 300, \"continuousHeight\": 300}}, \"layer\": [{\"mark\": {\"type\": \"bar\"}, \"encoding\": {\"color\": {\"field\": \"color\", \"scale\": null, \"type\": \"nominal\"}, \"tooltip\": [{\"field\": \"running_total\", \"type\": \"quantitative\"}, {\"field\": \"amount\", \"type\": \"quantitative\"}, {\"field\": \"label\", \"type\": \"nominal\"}], \"x\": {\"axis\": {\"labelAngle\": -60, \"labelExpr\": \"datum.value =='1' ? '2017' : datum.value =='2' ? 'New: product_category_name_english,seller_id,product_id' : datum.value =='3' ? 'New: product_category_name_english,seller_id' : datum.value =='4' ? 'Discontinued: product_category_name_english,seller_id,product_id' : datum.value =='5' ? 'Discontinued: product_category_name_english,seller_id' : datum.value =='6' ? 'Discontinued: product_category_name_english' : datum.value =='7' ? 'health_beauty quantity effect' : datum.value =='8' ? 'cool_stuff quantity effect' : datum.value =='9' ? 'furniture_decor quantity effect' : datum.value =='10' ? 'computers_accessories quantity effect' : datum.value =='11' ? 'musical_instruments quantity effect' : datum.value =='12' ? 'watches_gifts price effect' : datum.value =='13' ? 'computers_accessories price effect' : datum.value =='14' ? 'computers_accessories price effect' : datum.value =='15' ? 'computers_accessories price effect' : datum.value =='16' ? 'cool_stuff price effect' : datum.value =='17' ? 'Other - volume effect' : datum.value =='18' ? 'Other - price effect' : datum.value =='19' ? '2018' : ''\", \"title\": \"\"}, \"field\": \"row_number\", \"type\": \"nominal\"}, \"y\": {\"field\": \"running_total\", \"type\": \"quantitative\"}, \"y2\": {\"field\": \"prev_running_total\"}}}, {\"mark\": {\"type\": \"text\"}, \"encoding\": {\"text\": {\"field\": \"text_label\", \"type\": \"nominal\"}, \"tooltip\": [{\"field\": \"running_total\", \"type\": \"quantitative\"}, {\"field\": \"amount\", \"type\": \"quantitative\"}, {\"field\": \"label\", \"type\": \"nominal\"}], \"x\": {\"axis\": {\"labelAngle\": -60, \"labelExpr\": \"datum.value =='1' ? '2017' : datum.value =='2' ? 'New: product_category_name_english,seller_id,product_id' : datum.value =='3' ? 'New: product_category_name_english,seller_id' : datum.value =='4' ? 'Discontinued: product_category_name_english,seller_id,product_id' : datum.value =='5' ? 'Discontinued: product_category_name_english,seller_id' : datum.value =='6' ? 'Discontinued: product_category_name_english' : datum.value =='7' ? 'health_beauty quantity effect' : datum.value =='8' ? 'cool_stuff quantity effect' : datum.value =='9' ? 'furniture_decor quantity effect' : datum.value =='10' ? 'computers_accessories quantity effect' : datum.value =='11' ? 'musical_instruments quantity effect' : datum.value =='12' ? 'watches_gifts price effect' : datum.value =='13' ? 'computers_accessories price effect' : datum.value =='14' ? 'computers_accessories price effect' : datum.value =='15' ? 'computers_accessories price effect' : datum.value =='16' ? 'cool_stuff price effect' : datum.value =='17' ? 'Other - volume effect' : datum.value =='18' ? 'Other - price effect' : datum.value =='19' ? '2018' : ''\", \"title\": \"\"}, \"field\": \"row_number\", \"type\": \"nominal\"}, \"y\": {\"field\": \"text_label_position\", \"title\": \"\", \"type\": \"quantitative\"}}}, {\"mark\": {\"type\": \"text\", \"dy\": -10}, \"encoding\": {\"text\": {\"field\": \"total_text_label\", \"type\": \"nominal\"}, \"x\": {\"axis\": {\"labelAngle\": -60, \"labelExpr\": \"datum.value =='1' ? '2017' : datum.value =='2' ? 'New: product_category_name_english,seller_id,product_id' : datum.value =='3' ? 'New: product_category_name_english,seller_id' : datum.value =='4' ? 'Discontinued: product_category_name_english,seller_id,product_id' : datum.value =='5' ? 'Discontinued: product_category_name_english,seller_id' : datum.value =='6' ? 'Discontinued: product_category_name_english' : datum.value =='7' ? 'health_beauty quantity effect' : datum.value =='8' ? 'cool_stuff quantity effect' : datum.value =='9' ? 'furniture_decor quantity effect' : datum.value =='10' ? 'computers_accessories quantity effect' : datum.value =='11' ? 'musical_instruments quantity effect' : datum.value =='12' ? 'watches_gifts price effect' : datum.value =='13' ? 'computers_accessories price effect' : datum.value =='14' ? 'computers_accessories price effect' : datum.value =='15' ? 'computers_accessories price effect' : datum.value =='16' ? 'cool_stuff price effect' : datum.value =='17' ? 'Other - volume effect' : datum.value =='18' ? 'Other - price effect' : datum.value =='19' ? '2018' : ''\", \"title\": \"\"}, \"field\": \"row_number\", \"type\": \"nominal\"}, \"y\": {\"field\": \"text_label_position\", \"title\": \"\", \"type\": \"quantitative\"}}}], \"data\": {\"name\": \"data-85ebe0a7e8508ddb47dd57256e423999\"}, \"title\": \"Olist revenue bridge 2017-2018\", \"width\": 650, \"$schema\": \"https://vega.github.io/schema/vega-lite/v5.14.1.json\", \"datasets\": {\"data-85ebe0a7e8508ddb47dd57256e423999\": [{\"label\": \"2017\", \"amount\": 6805.5, \"running_total\": 6805.5, \"prev_running_total\": 0.0, \"text_label\": \"\", \"total_text_label\": \"6805.5\", \"color\": \"orange\", \"text_label_position\": 6805.5, \"row_number\": 1}, {\"label\": \"New: product_category_name_english,seller_id,product_id\", \"amount\": 2575.1, \"running_total\": 9380.7, \"prev_running_total\": 6805.5, \"text_label\": \"+2575.1\", \"total_text_label\": \"\", \"color\": \"green\", \"text_label_position\": 8093.1, \"row_number\": 2}, {\"label\": \"New: product_category_name_english,seller_id\", \"amount\": 2908.0, \"running_total\": 12288.6, \"prev_running_total\": 9380.7, \"text_label\": \"+2908.0\", \"total_text_label\": \"\", \"color\": \"green\", \"text_label_position\": 10834.6, \"row_number\": 3}, {\"label\": \"Discontinued: product_category_name_english,seller_id,product_id\", \"amount\": -2929.3, \"running_total\": 9359.4, \"prev_running_total\": 12288.6, \"text_label\": \"-2929.3\", \"total_text_label\": \"\", \"color\": \"red\", \"text_label_position\": 13753.3, \"row_number\": 4}, {\"label\": \"Discontinued: product_category_name_english,seller_id\", \"amount\": -1006.2, \"running_total\": 8353.1, \"prev_running_total\": 9359.4, \"text_label\": \"-1006.2\", \"total_text_label\": \"\", \"color\": \"red\", \"text_label_position\": 9862.5, \"row_number\": 5}, {\"label\": \"Discontinued: product_category_name_english\", \"amount\": -0.3, \"running_total\": 8352.8, \"prev_running_total\": 8353.1, \"text_label\": \"-0.3\", \"total_text_label\": \"\", \"color\": \"red\", \"text_label_position\": 8353.3, \"row_number\": 6}, {\"label\": \"health_beauty quantity effect\", \"amount\": 39.6, \"running_total\": 8392.5, \"prev_running_total\": 8352.8, \"text_label\": \"+39.6\", \"total_text_label\": \"\", \"color\": \"green\", \"text_label_position\": 8372.6, \"row_number\": 7}, {\"label\": \"cool_stuff quantity effect\", \"amount\": -31.6, \"running_total\": 8360.9, \"prev_running_total\": 8392.5, \"text_label\": \"-31.6\", \"total_text_label\": \"\", \"color\": \"red\", \"text_label_position\": 8408.3, \"row_number\": 8}, {\"label\": \"furniture_decor quantity effect\", \"amount\": 22.4, \"running_total\": 8383.2, \"prev_running_total\": 8360.9, \"text_label\": \"+22.4\", \"total_text_label\": \"\", \"color\": \"green\", \"text_label_position\": 8372.0, \"row_number\": 9}, {\"label\": \"computers_accessories quantity effect\", \"amount\": 22.3, \"running_total\": 8405.5, \"prev_running_total\": 8383.2, \"text_label\": \"+22.3\", \"total_text_label\": \"\", \"color\": \"green\", \"text_label_position\": 8394.4, \"row_number\": 10}, {\"label\": \"musical_instruments quantity effect\", \"amount\": 22.0, \"running_total\": 8427.5, \"prev_running_total\": 8405.5, \"text_label\": \"+22.0\", \"total_text_label\": \"\", \"color\": \"green\", \"text_label_position\": 8416.5, \"row_number\": 11}, {\"label\": \"watches_gifts price effect\", \"amount\": -5.0, \"running_total\": 8422.5, \"prev_running_total\": 8427.5, \"text_label\": \"-5.0\", \"total_text_label\": \"\", \"color\": \"red\", \"text_label_position\": 8430.0, \"row_number\": 12}, {\"label\": \"computers_accessories price effect\", \"amount\": -4.4, \"running_total\": 8418.1, \"prev_running_total\": 8422.5, \"text_label\": \"-4.4\", \"total_text_label\": \"\", \"color\": \"red\", \"text_label_position\": 8424.7, \"row_number\": 13}, {\"label\": \"computers_accessories price effect\", \"amount\": -3.6, \"running_total\": 8414.5, \"prev_running_total\": 8418.1, \"text_label\": \"-3.6\", \"total_text_label\": \"\", \"color\": \"red\", \"text_label_position\": 8419.9, \"row_number\": 14}, {\"label\": \"computers_accessories price effect\", \"amount\": 2.4, \"running_total\": 8416.9, \"prev_running_total\": 8414.5, \"text_label\": \"+2.4\", \"total_text_label\": \"\", \"color\": \"green\", \"text_label_position\": 8415.7, \"row_number\": 15}, {\"label\": \"cool_stuff price effect\", \"amount\": -2.1, \"running_total\": 8414.8, \"prev_running_total\": 8416.9, \"text_label\": \"-2.1\", \"total_text_label\": \"\", \"color\": \"red\", \"text_label_position\": 8417.9, \"row_number\": 16}, {\"label\": \"Other - volume effect\", \"amount\": -67.3, \"running_total\": 8347.5, \"prev_running_total\": 8414.8, \"text_label\": \"-67.3\", \"total_text_label\": \"\", \"color\": \"red\", \"text_label_position\": 8448.4, \"row_number\": 17}, {\"label\": \"Other - price effect\", \"amount\": -8.2, \"running_total\": 8339.3, \"prev_running_total\": 8347.5, \"text_label\": \"-8.2\", \"total_text_label\": \"\", \"color\": \"red\", \"text_label_position\": 8351.6, \"row_number\": 18}, {\"label\": \"2018\", \"amount\": 0.0, \"running_total\": 8339.3, \"prev_running_total\": 0.0, \"text_label\": \"\", \"total_text_label\": \"8339.3\", \"color\": \"orange\", \"text_label_position\": 8339.3, \"row_number\": 19}]}}, {\"mode\": \"vega-lite\"});\n",
       "</script>"
      ],
      "text/plain": [
       "alt.LayerChart(...)"
      ]
     },
     "execution_count": 70,
     "metadata": {},
     "output_type": "execute_result"
    }
   ],
   "source": [
    "imp.reload(pmv_charts)\n",
    "hierarchy = [\"product_category_name_english\", \"seller_id\",  \"product_id\",]\n",
    "\n",
    "calculated = p.calculate(hierarchy=hierarchy, return_detail=False)\n",
    "\n",
    "chart_components = list(\n",
    "    itt.chain(\n",
    "        [(\"2017\", True, r2017)],\n",
    "        p.find_largest_components(calculated, hierarchy[0], max_components=5),\n",
    "        [(\"2018\", True, 0)],\n",
    "    )\n",
    ")\n",
    "\n",
    "pmv_charts.waterfall(chart_components, labelAngle=-60).properties(\n",
    "    width=650, title=\"Olist revenue bridge 2017-2018\"\n",
    ")"
   ]
  },
  {
   "cell_type": "code",
   "execution_count": 71,
   "metadata": {},
   "outputs": [
    {
     "name": "stdout",
     "output_type": "stream",
     "text": [
      "+---------------+----------------------------------------------------+---------+-----------------+--------------+--------------+-------+\n",
      "|    status     |                   status_reason                    | revenue | quantity_effect | price_effect | total_effect | count |\n",
      "+---------------+----------------------------------------------------+---------+-----------------+--------------+--------------+-------+\n",
      "| discontinued  | product_category_name_english,seller_id,product_id | 2929.3  |     -2929.3     |     0.0      |   -2929.3    | 9291  |\n",
      "|  introduced   |      product_category_name_english,seller_id       |   0.0   |     2908.0      |     0.0      |    2908.0    | 7527  |\n",
      "|  introduced   | product_category_name_english,seller_id,product_id |   0.0   |     2575.1      |     0.0      |    2575.1    | 8605  |\n",
      "| discontinued  |           product_category_name_english            |   0.3   |      -0.3       |     0.0      |     -0.3     |   2   |\n",
      "| discontinued  |      product_category_name_english,seller_id       | 1006.2  |     -1006.2     |     0.0      |   -1006.2    | 2926  |\n",
      "| like-for-like |                                                    | 2869.7  |       7.4       |    -20.9     |    -13.5     | 4569  |\n",
      "+---------------+----------------------------------------------------+---------+-----------------+--------------+--------------+-------+\n"
     ]
    }
   ],
   "source": [
    "print_table(p.summarize(calculated))"
   ]
  },
  {
   "cell_type": "markdown",
   "metadata": {},
   "source": [
    "## Zooming in\n",
    "\n",
    "Let's take one particular product category - Watches & gifts and look a bit closer."
   ]
  },
  {
   "cell_type": "code",
   "execution_count": 62,
   "metadata": {},
   "outputs": [
    {
     "data": {
      "text/html": [
       "<div><style>\n",
       ".dataframe > thead > tr > th,\n",
       ".dataframe > tbody > tr > td {\n",
       "  text-align: right;\n",
       "  white-space: pre-wrap;\n",
       "}\n",
       "</style>\n",
       "<small>shape: (1, 3)</small><table border=\"1\" class=\"dataframe\"><thead><tr><th>quantity_effect</th><th>price_effect</th><th>total_effect</th></tr><tr><td>f64</td><td>f64</td><td>f64</td></tr></thead><tbody><tr><td>299.20548</td><td>-86.96099</td><td>212.24449</td></tr></tbody></table></div>"
      ],
      "text/plain": [
       "shape: (1, 3)\n",
       "┌─────────────────┬──────────────┬──────────────┐\n",
       "│ quantity_effect ┆ price_effect ┆ total_effect │\n",
       "│ ---             ┆ ---          ┆ ---          │\n",
       "│ f64             ┆ f64          ┆ f64          │\n",
       "╞═════════════════╪══════════════╪══════════════╡\n",
       "│ 299.20548       ┆ -86.96099    ┆ 212.24449    │\n",
       "└─────────────────┴──────────────┴──────────────┘"
      ]
     },
     "execution_count": 62,
     "metadata": {},
     "output_type": "execute_result"
    }
   ],
   "source": [
    "calculated.filter(pl.col(\"product_category_name_english\") == \"watches_gifts\").select(cs.contains('effect'))"
   ]
  },
  {
   "cell_type": "code",
   "execution_count": 52,
   "metadata": {},
   "outputs": [
    {
     "data": {
      "text/html": [
       "\n",
       "<style>\n",
       "  #altair-viz-cc5eb74570b248eda18c4823f299bf25.vega-embed {\n",
       "    width: 100%;\n",
       "    display: flex;\n",
       "  }\n",
       "\n",
       "  #altair-viz-cc5eb74570b248eda18c4823f299bf25.vega-embed details,\n",
       "  #altair-viz-cc5eb74570b248eda18c4823f299bf25.vega-embed details summary {\n",
       "    position: relative;\n",
       "  }\n",
       "</style>\n",
       "<div id=\"altair-viz-cc5eb74570b248eda18c4823f299bf25\"></div>\n",
       "<script type=\"text/javascript\">\n",
       "  var VEGA_DEBUG = (typeof VEGA_DEBUG == \"undefined\") ? {} : VEGA_DEBUG;\n",
       "  (function(spec, embedOpt){\n",
       "    let outputDiv = document.currentScript.previousElementSibling;\n",
       "    if (outputDiv.id !== \"altair-viz-cc5eb74570b248eda18c4823f299bf25\") {\n",
       "      outputDiv = document.getElementById(\"altair-viz-cc5eb74570b248eda18c4823f299bf25\");\n",
       "    }\n",
       "    const paths = {\n",
       "      \"vega\": \"https://cdn.jsdelivr.net/npm/vega@5?noext\",\n",
       "      \"vega-lib\": \"https://cdn.jsdelivr.net/npm/vega-lib?noext\",\n",
       "      \"vega-lite\": \"https://cdn.jsdelivr.net/npm/vega-lite@5.14.1?noext\",\n",
       "      \"vega-embed\": \"https://cdn.jsdelivr.net/npm/vega-embed@6?noext\",\n",
       "    };\n",
       "\n",
       "    function maybeLoadScript(lib, version) {\n",
       "      var key = `${lib.replace(\"-\", \"\")}_version`;\n",
       "      return (VEGA_DEBUG[key] == version) ?\n",
       "        Promise.resolve(paths[lib]) :\n",
       "        new Promise(function(resolve, reject) {\n",
       "          var s = document.createElement('script');\n",
       "          document.getElementsByTagName(\"head\")[0].appendChild(s);\n",
       "          s.async = true;\n",
       "          s.onload = () => {\n",
       "            VEGA_DEBUG[key] = version;\n",
       "            return resolve(paths[lib]);\n",
       "          };\n",
       "          s.onerror = () => reject(`Error loading script: ${paths[lib]}`);\n",
       "          s.src = paths[lib];\n",
       "        });\n",
       "    }\n",
       "\n",
       "    function showError(err) {\n",
       "      outputDiv.innerHTML = `<div class=\"error\" style=\"color:red;\">${err}</div>`;\n",
       "      throw err;\n",
       "    }\n",
       "\n",
       "    function displayChart(vegaEmbed) {\n",
       "      vegaEmbed(outputDiv, spec, embedOpt)\n",
       "        .catch(err => showError(`Javascript Error: ${err.message}<br>This usually means there's a typo in your chart specification. See the javascript console for the full traceback.`));\n",
       "    }\n",
       "\n",
       "    if(typeof define === \"function\" && define.amd) {\n",
       "      requirejs.config({paths});\n",
       "      require([\"vega-embed\"], displayChart, err => showError(`Error loading script: ${err.message}`));\n",
       "    } else {\n",
       "      maybeLoadScript(\"vega\", \"5\")\n",
       "        .then(() => maybeLoadScript(\"vega-lite\", \"5.14.1\"))\n",
       "        .then(() => maybeLoadScript(\"vega-embed\", \"6\"))\n",
       "        .catch(showError)\n",
       "        .then(() => displayChart(vegaEmbed));\n",
       "    }\n",
       "  })({\"config\": {\"view\": {\"continuousWidth\": 300, \"continuousHeight\": 300}}, \"layer\": [{\"mark\": {\"type\": \"bar\"}, \"encoding\": {\"color\": {\"field\": \"color\", \"scale\": null, \"type\": \"nominal\"}, \"tooltip\": [{\"field\": \"running_total\", \"type\": \"quantitative\"}, {\"field\": \"amount\", \"type\": \"quantitative\"}, {\"field\": \"label\", \"type\": \"nominal\"}], \"x\": {\"axis\": {\"labelAngle\": -60, \"labelExpr\": \"datum.value =='1' ? '2017' : datum.value =='2' ? 'New: product_category_name_english,product_id' : datum.value =='3' ? 'Discontinued: product_category_name_english,product_id' : datum.value =='4' ? 'Volume effect' : datum.value =='5' ? 'Price effect' : datum.value =='6' ? '2018' : ''\", \"title\": \"\"}, \"field\": \"row_number\", \"type\": \"nominal\"}, \"y\": {\"field\": \"running_total\", \"type\": \"quantitative\"}, \"y2\": {\"field\": \"prev_running_total\"}}}, {\"mark\": {\"type\": \"text\"}, \"encoding\": {\"text\": {\"field\": \"text_label\", \"type\": \"nominal\"}, \"tooltip\": [{\"field\": \"running_total\", \"type\": \"quantitative\"}, {\"field\": \"amount\", \"type\": \"quantitative\"}, {\"field\": \"label\", \"type\": \"nominal\"}], \"x\": {\"axis\": {\"labelAngle\": -60, \"labelExpr\": \"datum.value =='1' ? '2017' : datum.value =='2' ? 'New: product_category_name_english,product_id' : datum.value =='3' ? 'Discontinued: product_category_name_english,product_id' : datum.value =='4' ? 'Volume effect' : datum.value =='5' ? 'Price effect' : datum.value =='6' ? '2018' : ''\", \"title\": \"\"}, \"field\": \"row_number\", \"type\": \"nominal\"}, \"y\": {\"field\": \"text_label_position\", \"title\": \"\", \"type\": \"quantitative\"}}}, {\"mark\": {\"type\": \"text\", \"dy\": -10}, \"encoding\": {\"text\": {\"field\": \"total_text_label\", \"type\": \"nominal\"}, \"x\": {\"axis\": {\"labelAngle\": -60, \"labelExpr\": \"datum.value =='1' ? '2017' : datum.value =='2' ? 'New: product_category_name_english,product_id' : datum.value =='3' ? 'Discontinued: product_category_name_english,product_id' : datum.value =='4' ? 'Volume effect' : datum.value =='5' ? 'Price effect' : datum.value =='6' ? '2018' : ''\", \"title\": \"\"}, \"field\": \"row_number\", \"type\": \"nominal\"}, \"y\": {\"field\": \"text_label_position\", \"title\": \"\", \"type\": \"quantitative\"}}}], \"data\": {\"name\": \"data-dd07c48c9bfec7fb361935cb7ac823f2\"}, \"title\": \"Olist revenue bridge 2017-2018\", \"width\": 650, \"$schema\": \"https://vega.github.io/schema/vega-lite/v5.14.1.json\", \"datasets\": {\"data-dd07c48c9bfec7fb361935cb7ac823f2\": [{\"label\": \"2017\", \"amount\": 511.8, \"running_total\": 511.8, \"prev_running_total\": 0.0, \"text_label\": \"\", \"total_text_label\": \"511.8\", \"color\": \"orange\", \"text_label_position\": 511.8, \"row_number\": 1}, {\"label\": \"New: product_category_name_english,product_id\", \"amount\": 352.2, \"running_total\": 864.0, \"prev_running_total\": 511.8, \"text_label\": \"+352.2\", \"total_text_label\": \"\", \"color\": \"green\", \"text_label_position\": 687.9, \"row_number\": 2}, {\"label\": \"Discontinued: product_category_name_english,product_id\", \"amount\": -254.6, \"running_total\": 609.4, \"prev_running_total\": 864.0, \"text_label\": \"-254.6\", \"total_text_label\": \"\", \"color\": \"red\", \"text_label_position\": 991.3, \"row_number\": 3}, {\"label\": \"Volume effect\", \"amount\": 199.6, \"running_total\": 809.0, \"prev_running_total\": 609.4, \"text_label\": \"+199.6\", \"total_text_label\": \"\", \"color\": \"green\", \"text_label_position\": 709.2, \"row_number\": 4}, {\"label\": \"Price effect\", \"amount\": -75.4, \"running_total\": 733.6, \"prev_running_total\": 809.0, \"text_label\": \"-75.4\", \"total_text_label\": \"\", \"color\": \"red\", \"text_label_position\": 846.7, \"row_number\": 5}, {\"label\": \"2018\", \"amount\": 0.0, \"running_total\": 733.6, \"prev_running_total\": 0.0, \"text_label\": \"\", \"total_text_label\": \"733.6\", \"color\": \"orange\", \"text_label_position\": 733.6, \"row_number\": 6}]}}, {\"mode\": \"vega-lite\"});\n",
       "</script>"
      ],
      "text/plain": [
       "alt.LayerChart(...)"
      ]
     },
     "execution_count": 52,
     "metadata": {},
     "output_type": "execute_result"
    }
   ],
   "source": [
    "hierarchy = [\"product_category_name_english\", \"product_id\"]\n",
    "\n",
    "watches = p.calculate(hierarchy=hierarchy, return_detail=True).filter(pl.col(\"product_category_name_english\") == \"watches_gifts\")\n",
    "\n",
    "watches_2017 = watches.select(pl.col('revenue').sum()).item()\n",
    "chart_components = list(\n",
    "    itt.chain(\n",
    "        [(\"2017\", True, watches_2017)],\n",
    "        p.find_largest_components(watches, hierarchy[1], max_components=0),\n",
    "        [(\"2018\", True, 0)],\n",
    "    )\n",
    ")\n",
    "\n",
    "pmv_charts.waterfall(chart_components, labelAngle=-60).properties(\n",
    "    width=650, title=\"Olist revenue bridge 2017-2018\"\n",
    ")"
   ]
  },
  {
   "cell_type": "code",
   "execution_count": 56,
   "metadata": {},
   "outputs": [
    {
     "data": {
      "text/html": [
       "<div><style>\n",
       ".dataframe > thead > tr > th,\n",
       ".dataframe > tbody > tr > td {\n",
       "  text-align: right;\n",
       "  white-space: pre-wrap;\n",
       "}\n",
       "</style>\n",
       "<small>shape: (3, 7)</small><table border=\"1\" class=\"dataframe\"><thead><tr><th>status</th><th>quantity</th><th>revenue</th><th>quantity_next</th><th>revenue_next</th><th>avg_price</th><th>avg_price_next</th></tr><tr><td>str</td><td>f64</td><td>f64</td><td>f64</td><td>f64</td><td>f64</td><td>f64</td></tr></thead><tbody><tr><td>&quot;introduced&quot;</td><td>0.0</td><td>0.0</td><td>1.108</td><td>352.18992</td><td>NaN</td><td>317.860939</td></tr><tr><td>&quot;discontinued&quot;</td><td>0.739</td><td>254.58132</td><td>0.0</td><td>0.0</td><td>344.494344</td><td>NaN</td></tr><tr><td>&quot;like-for-like&quot;</td><td>1.488</td><td>257.21965</td><td>2.52</td><td>397.54852</td><td>172.862668</td><td>157.757349</td></tr></tbody></table></div>"
      ],
      "text/plain": [
       "shape: (3, 7)\n",
       "┌───────────────┬──────────┬───────────┬───────────────┬──────────────┬────────────┬───────────────┐\n",
       "│ status        ┆ quantity ┆ revenue   ┆ quantity_next ┆ revenue_next ┆ avg_price  ┆ avg_price_nex │\n",
       "│ ---           ┆ ---      ┆ ---       ┆ ---           ┆ ---          ┆ ---        ┆ t             │\n",
       "│ str           ┆ f64      ┆ f64       ┆ f64           ┆ f64          ┆ f64        ┆ ---           │\n",
       "│               ┆          ┆           ┆               ┆              ┆            ┆ f64           │\n",
       "╞═══════════════╪══════════╪═══════════╪═══════════════╪══════════════╪════════════╪═══════════════╡\n",
       "│ introduced    ┆ 0.0      ┆ 0.0       ┆ 1.108         ┆ 352.18992    ┆ NaN        ┆ 317.860939    │\n",
       "│ discontinued  ┆ 0.739    ┆ 254.58132 ┆ 0.0           ┆ 0.0          ┆ 344.494344 ┆ NaN           │\n",
       "│ like-for-like ┆ 1.488    ┆ 257.21965 ┆ 2.52          ┆ 397.54852    ┆ 172.862668 ┆ 157.757349    │\n",
       "└───────────────┴──────────┴───────────┴───────────────┴──────────────┴────────────┴───────────────┘"
      ]
     },
     "execution_count": 56,
     "metadata": {},
     "output_type": "execute_result"
    }
   ],
   "source": [
    "watches.group_by('status').agg(pl.col('quantity').sum(), pl.col('revenue').sum(), pl.col('quantity_next').sum(), pl.col('revenue_next').sum()).with_columns(\n",
    "    (pl.col('revenue') / pl.col('quantity')).alias(\"avg_price\"),\n",
    "    (pl.col('revenue_next') / pl.col('quantity_next')).alias(\"avg_price_next\")\n",
    ")"
   ]
  },
  {
   "cell_type": "code",
   "execution_count": 53,
   "metadata": {},
   "outputs": [
    {
     "name": "stdout",
     "output_type": "stream",
     "text": [
      "+---------------+------------------------------------------+---------+--------------+----------------+-----------------+--------------+--------------+-------+\n",
      "|    status     |              status_reason               | revenue | revenue_next | revenue_change | quantity_effect | price_effect | total_effect | count |\n",
      "+---------------+------------------------------------------+---------+--------------+----------------+-----------------+--------------+--------------+-------+\n",
      "| discontinued  | product_category_name_english,product_id |  254.6  |     0.0      |     -254.6     |     -254.6      |     0.0      |    -254.6    |  460  |\n",
      "| like-for-like |                                          |  257.2  |    397.5     |     140.3      |      199.6      |    -75.4     |    124.2     |  264  |\n",
      "|  introduced   | product_category_name_english,product_id |   0.0   |    352.2     |     352.2      |      352.2      |     0.0      |    352.2     |  573  |\n",
      "+---------------+------------------------------------------+---------+--------------+----------------+-----------------+--------------+--------------+-------+\n"
     ]
    }
   ],
   "source": [
    "print_table(p.summarize(watches))"
   ]
  }
 ],
 "metadata": {
  "kernelspec": {
   "display_name": "Python 3",
   "language": "python",
   "name": "python3"
  },
  "language_info": {
   "codemirror_mode": {
    "name": "ipython",
    "version": 3
   },
   "file_extension": ".py",
   "mimetype": "text/x-python",
   "name": "python",
   "nbconvert_exporter": "python",
   "pygments_lexer": "ipython3",
   "version": "3.12.1"
  }
 },
 "nbformat": 4,
 "nbformat_minor": 2
}
